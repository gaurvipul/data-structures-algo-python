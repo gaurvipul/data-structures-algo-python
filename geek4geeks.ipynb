{
 "cells": [
  {
   "cell_type": "markdown",
   "metadata": {},
   "source": [
    "### Largest Number in a list\n",
    "\n",
    "#### Naive Solution\n",
    "#### Time Complexity = O(n<sup>2</sup>)"
   ]
  },
  {
   "cell_type": "code",
   "execution_count": 1,
   "metadata": {},
   "outputs": [],
   "source": [
    "lst = [23.5,3445,33,676,45,23,54,345,234,-23.34,435,430,5492,2394,94963,5495,34545,34123,23435,459,0,34,-55]\n",
    "\n",
    "testlst = [3,1,5,4,2]"
   ]
  },
  {
   "cell_type": "code",
   "execution_count": 2,
   "metadata": {},
   "outputs": [],
   "source": [
    "def getMaxOn2(l):\n",
    "    if isinstance(l,list):\n",
    "        for i in range(0,len(l)):\n",
    "            for j in range(0,len(l)):\n",
    "                #print(f'i >> {i} >> {l[i]} || j >> {j} >> {l[j]}')\n",
    "                if l[j]>l[i]:\n",
    "                    break\n",
    "            else:\n",
    "                return l[i]\n",
    "    else:\n",
    "        return None\n",
    "                    "
   ]
  },
  {
   "cell_type": "code",
   "execution_count": 3,
   "metadata": {},
   "outputs": [
    {
     "name": "stdout",
     "output_type": "stream",
     "text": [
      "1.48 µs ± 38 ns per loop (mean ± std. dev. of 7 runs, 1000000 loops each)\n"
     ]
    }
   ],
   "source": [
    "%%timeit\n",
    "getMaxOn2(testlst)"
   ]
  },
  {
   "cell_type": "markdown",
   "metadata": {},
   "source": [
    "#### Better Solution\n",
    "#### Time Complexity: O(n)"
   ]
  },
  {
   "cell_type": "code",
   "execution_count": 4,
   "metadata": {},
   "outputs": [],
   "source": [
    "def getMaxOn(l):\n",
    "    \n",
    "    if isinstance(l,list):\n",
    "        #print(f'list >> {l}\\n')\n",
    "        result = l[0]\n",
    "        #print(f'result >> {result}\\n')\n",
    "        #print(l[1:])\n",
    "        for i in range(1,len(l)):\n",
    "            #print(f'i = {i} >> list[{i}] = {l[i]}\\n')\n",
    "            if l[i]>result:\n",
    "                result = l[i]\n",
    "        \n",
    "        return result\n",
    "    return None"
   ]
  },
  {
   "cell_type": "code",
   "execution_count": 5,
   "metadata": {},
   "outputs": [
    {
     "name": "stdout",
     "output_type": "stream",
     "text": [
      "492 ns ± 5.34 ns per loop (mean ± std. dev. of 7 runs, 1000000 loops each)\n"
     ]
    }
   ],
   "source": [
    "%%timeit\n",
    "getMaxOn(testlst)"
   ]
  },
  {
   "cell_type": "markdown",
   "metadata": {},
   "source": [
    "### Second Maximum\n",
    "#### Time Complexity = O(n)"
   ]
  },
  {
   "cell_type": "code",
   "execution_count": 6,
   "metadata": {},
   "outputs": [],
   "source": [
    "# Double traversal\n",
    "def secMax(l):\n",
    "    if len(l)<=1:\n",
    "        return None\n",
    "    lar = getMaxOn(l)\n",
    "    slar = None\n",
    "    \n",
    "    for i in l:\n",
    "        if i != lar:\n",
    "            if slar == None:\n",
    "                slar = i\n",
    "            else:\n",
    "                slar = max(slar,i)\n",
    "    return slar\n",
    "    "
   ]
  },
  {
   "cell_type": "code",
   "execution_count": 7,
   "metadata": {},
   "outputs": [
    {
     "name": "stdout",
     "output_type": "stream",
     "text": [
      "1.15 µs ± 9.05 ns per loop (mean ± std. dev. of 7 runs, 1000000 loops each)\n"
     ]
    }
   ],
   "source": [
    "%%timeit\n",
    "secMax(testlst)"
   ]
  },
  {
   "cell_type": "markdown",
   "metadata": {},
   "source": [
    "### Single traversal "
   ]
  },
  {
   "cell_type": "code",
   "execution_count": 8,
   "metadata": {},
   "outputs": [],
   "source": [
    "def getSecMax(l):\n",
    "    if len(l)<=1:\n",
    "        return None\n",
    "    \n",
    "    lar = l[0]\n",
    "    slar = None\n",
    "    \n",
    "    for i in l[1:]:\n",
    "        if i > lar:\n",
    "            slar = lar\n",
    "            lar = i\n",
    "        elif i != lar:\n",
    "            if slar == None or slar < i:\n",
    "                slar = i\n",
    "    return slar"
   ]
  },
  {
   "cell_type": "code",
   "execution_count": 9,
   "metadata": {},
   "outputs": [
    {
     "name": "stdout",
     "output_type": "stream",
     "text": [
      "488 ns ± 7.14 ns per loop (mean ± std. dev. of 7 runs, 1000000 loops each)\n"
     ]
    }
   ],
   "source": [
    "%%timeit\n",
    "getSecMax(testlst)"
   ]
  },
  {
   "cell_type": "markdown",
   "metadata": {},
   "source": [
    "### Find if list is sorted"
   ]
  },
  {
   "cell_type": "code",
   "execution_count": 10,
   "metadata": {},
   "outputs": [],
   "source": [
    "def isSorted(l):\n",
    "    i = 1\n",
    "    \n",
    "    while i < len(l):\n",
    "        if l[i]<l[i-1]:\n",
    "            return False\n",
    "        i += 1\n",
    "    return True"
   ]
  },
  {
   "cell_type": "code",
   "execution_count": 11,
   "metadata": {},
   "outputs": [
    {
     "name": "stdout",
     "output_type": "stream",
     "text": [
      "166 ns ± 2.35 ns per loop (mean ± std. dev. of 7 runs, 10000000 loops each)\n"
     ]
    }
   ],
   "source": [
    "%%timeit\n",
    "isSorted(testlst)"
   ]
  },
  {
   "cell_type": "code",
   "execution_count": 12,
   "metadata": {},
   "outputs": [],
   "source": [
    "def isSorted2(l):\n",
    "    l2 = sorted(l)\n",
    "    \n",
    "    if l2==l:\n",
    "        return True\n",
    "    else:\n",
    "        return False"
   ]
  },
  {
   "cell_type": "code",
   "execution_count": 13,
   "metadata": {},
   "outputs": [
    {
     "name": "stdout",
     "output_type": "stream",
     "text": [
      "240 ns ± 5.51 ns per loop (mean ± std. dev. of 7 runs, 1000000 loops each)\n"
     ]
    }
   ],
   "source": [
    "%%timeit\n",
    "isSorted2(testlst)"
   ]
  },
  {
   "cell_type": "markdown",
   "metadata": {},
   "source": [
    "### Find Odd numbers in the list"
   ]
  },
  {
   "cell_type": "code",
   "execution_count": 14,
   "metadata": {},
   "outputs": [],
   "source": [
    "def findOdd1(l):\n",
    "    if isinstance(l,list):\n",
    "        #print(f'list >> {l}\\n')\n",
    "        for x in l:\n",
    "            count = l.count(x)\n",
    "            #print(f'x >> {x} | count >> {count} | count % 2 >> {count % 2}')\n",
    "            if count % 2 != 0:\n",
    "                res = x\n",
    "                #print(f'res >> {res}')\n",
    "        return res\n",
    "    return None    "
   ]
  },
  {
   "cell_type": "code",
   "execution_count": 15,
   "metadata": {},
   "outputs": [
    {
     "name": "stdout",
     "output_type": "stream",
     "text": [
      "5.76 µs ± 15.5 ns per loop (mean ± std. dev. of 7 runs, 100000 loops each)\n"
     ]
    }
   ],
   "source": [
    "%%timeit\n",
    "findOdd1([9,2,2,1,1,4,5,5,6,6,6,6,8,8,8,8,8,8,9,9,9])"
   ]
  },
  {
   "cell_type": "markdown",
   "metadata": {},
   "source": [
    "#### Find Odd occurrence using XOR"
   ]
  },
  {
   "cell_type": "code",
   "execution_count": 16,
   "metadata": {},
   "outputs": [],
   "source": [
    "def findOdd2(l):\n",
    "    res = 0\n",
    "    \n",
    "    for x in l:\n",
    "        res ^= x\n",
    "    return res"
   ]
  },
  {
   "cell_type": "code",
   "execution_count": 17,
   "metadata": {},
   "outputs": [
    {
     "name": "stdout",
     "output_type": "stream",
     "text": [
      "1.13 µs ± 4.66 ns per loop (mean ± std. dev. of 7 runs, 1000000 loops each)\n"
     ]
    }
   ],
   "source": [
    "%%timeit\n",
    "findOdd2([9,2,2,1,1,4,5,5,6,6,6,6,8,8,8,8,8,8,9,9,9])"
   ]
  },
  {
   "cell_type": "markdown",
   "metadata": {},
   "source": [
    "#### Reverse a list in Python"
   ]
  },
  {
   "cell_type": "markdown",
   "metadata": {},
   "source": [
    "#### Library methods"
   ]
  },
  {
   "cell_type": "code",
   "execution_count": 24,
   "metadata": {},
   "outputs": [
    {
     "name": "stdout",
     "output_type": "stream",
     "text": [
      "[5, 4, 3, 2, 1]\n"
     ]
    }
   ],
   "source": [
    "#%%timeit\n",
    "srtList = sorted(testlst)\n",
    "srtList.reverse()\n",
    "print(srtList)"
   ]
  },
  {
   "cell_type": "code",
   "execution_count": 27,
   "metadata": {},
   "outputs": [
    {
     "data": {
      "text/plain": [
       "[5, 4, 3, 2, 1]"
      ]
     },
     "execution_count": 27,
     "metadata": {},
     "output_type": "execute_result"
    }
   ],
   "source": [
    "srtList = sorted(testlst)\n",
    "srtList\n",
    "revList = list(reversed(srtList))\n",
    "revList"
   ]
  },
  {
   "cell_type": "code",
   "execution_count": 28,
   "metadata": {},
   "outputs": [
    {
     "data": {
      "text/plain": [
       "[5, 4, 3, 2, 1]"
      ]
     },
     "execution_count": 28,
     "metadata": {},
     "output_type": "execute_result"
    }
   ],
   "source": [
    "srtList = sorted(testlst)\n",
    "srtList\n",
    "revList = srtList[::-1]\n",
    "revList"
   ]
  },
  {
   "cell_type": "markdown",
   "metadata": {},
   "source": [
    "#### Custom Function"
   ]
  },
  {
   "cell_type": "code",
   "execution_count": 31,
   "metadata": {},
   "outputs": [],
   "source": [
    "def reverseList(l):\n",
    "    s = 0\n",
    "    e = len(l)-1\n",
    "    \n",
    "    while s<e:\n",
    "        l[s],l[e] = l[e],l[s]\n",
    "        s += 1\n",
    "        e -= 1\n",
    "    return l"
   ]
  },
  {
   "cell_type": "code",
   "execution_count": 33,
   "metadata": {},
   "outputs": [
    {
     "data": {
      "text/plain": [
       "[5, 4, 3, 2, 1]"
      ]
     },
     "execution_count": 33,
     "metadata": {},
     "output_type": "execute_result"
    }
   ],
   "source": [
    "reverseList(sorted(testlst))"
   ]
  },
  {
   "cell_type": "markdown",
   "metadata": {},
   "source": [
    "### Counter Clockwise or Left Rotation of a list"
   ]
  },
  {
   "cell_type": "markdown",
   "metadata": {},
   "source": [
    "#### Method # 1 - Slice, append / pop"
   ]
  },
  {
   "cell_type": "code",
   "execution_count": 64,
   "metadata": {},
   "outputs": [],
   "source": [
    "testlst = [3, 1, 5, 4, 2]"
   ]
  },
  {
   "cell_type": "code",
   "execution_count": 80,
   "metadata": {},
   "outputs": [],
   "source": [
    "def leftRotate1(l):\n",
    "    l = l[1:]+l[0:1]\n",
    "    return l"
   ]
  },
  {
   "cell_type": "code",
   "execution_count": 81,
   "metadata": {},
   "outputs": [
    {
     "name": "stdout",
     "output_type": "stream",
     "text": [
      "239 ns ± 4.76 ns per loop (mean ± std. dev. of 7 runs, 1000000 loops each)\n"
     ]
    }
   ],
   "source": [
    "%%timeit\n",
    "leftRotate1(testlst)"
   ]
  },
  {
   "cell_type": "code",
   "execution_count": 82,
   "metadata": {},
   "outputs": [],
   "source": [
    "def leftRotate2(l):\n",
    "    l.append(l.pop(0))\n",
    "    return l"
   ]
  },
  {
   "cell_type": "code",
   "execution_count": 83,
   "metadata": {},
   "outputs": [
    {
     "name": "stdout",
     "output_type": "stream",
     "text": [
      "149 ns ± 2.6 ns per loop (mean ± std. dev. of 7 runs, 10000000 loops each)\n"
     ]
    }
   ],
   "source": [
    "%%timeit\n",
    "leftRotate2(testlst)"
   ]
  },
  {
   "cell_type": "markdown",
   "metadata": {},
   "source": [
    "#### Own function"
   ]
  },
  {
   "cell_type": "code",
   "execution_count": 69,
   "metadata": {},
   "outputs": [],
   "source": [
    "def counterClockRotate(l):\n",
    "    n = len(l)\n",
    "    x = l[0]\n",
    "    \n",
    "    for i in range(1,n):\n",
    "        l[i-1] = l[i]\n",
    "    \n",
    "    l[n-1]=x\n",
    "    \n",
    "    return l"
   ]
  },
  {
   "cell_type": "code",
   "execution_count": 77,
   "metadata": {},
   "outputs": [
    {
     "name": "stdout",
     "output_type": "stream",
     "text": [
      "615 ns ± 12.1 ns per loop (mean ± std. dev. of 7 runs, 1000000 loops each)\n"
     ]
    }
   ],
   "source": [
    "%%timeit\n",
    "counterClockRotate([1, 5, 4, 2, 3])"
   ]
  },
  {
   "cell_type": "markdown",
   "metadata": {},
   "source": [
    "#### Left rotate by d places"
   ]
  },
  {
   "cell_type": "markdown",
   "metadata": {},
   "source": [
    "#### Slicing method"
   ]
  },
  {
   "cell_type": "code",
   "execution_count": 93,
   "metadata": {},
   "outputs": [],
   "source": [
    "def rotateByd(l,d):\n",
    "    if isinstance(l,list):\n",
    "        #print(f'List in original form >> {l}')\n",
    "        l = l[d:]+l[:d]\n",
    "    return l"
   ]
  },
  {
   "cell_type": "code",
   "execution_count": 94,
   "metadata": {},
   "outputs": [
    {
     "name": "stdout",
     "output_type": "stream",
     "text": [
      "273 ns ± 2.47 ns per loop (mean ± std. dev. of 7 runs, 1000000 loops each)\n"
     ]
    }
   ],
   "source": [
    "%%timeit\n",
    "rotateByd(testlst,3)"
   ]
  },
  {
   "cell_type": "markdown",
   "metadata": {},
   "source": [
    "#### deque method"
   ]
  },
  {
   "cell_type": "code",
   "execution_count": 95,
   "metadata": {},
   "outputs": [],
   "source": [
    "from collections import deque\n",
    "\n",
    "def rotateByDeque(l,d):\n",
    "    if isinstance(l,list):\n",
    "        dq = deque(l)\n",
    "        dq.rotate(-d)\n",
    "        l = list(dq)\n",
    "    return l"
   ]
  },
  {
   "cell_type": "code",
   "execution_count": 98,
   "metadata": {},
   "outputs": [
    {
     "name": "stdout",
     "output_type": "stream",
     "text": [
      "448 ns ± 6.36 ns per loop (mean ± std. dev. of 7 runs, 1000000 loops each)\n"
     ]
    }
   ],
   "source": [
    "%%timeit\n",
    "#print(testlst)\n",
    "rotateByDeque(testlst,2)"
   ]
  },
  {
   "cell_type": "markdown",
   "metadata": {},
   "source": [
    "#### Own method - pop/append - O(n) time complexity"
   ]
  },
  {
   "cell_type": "code",
   "execution_count": 99,
   "metadata": {},
   "outputs": [],
   "source": [
    "def leftRotatePop(l,d):\n",
    "    if isinstance(l,list):\n",
    "        for i in range(0,d):\n",
    "            l.append(l.pop(0))\n",
    "    return l"
   ]
  },
  {
   "cell_type": "code",
   "execution_count": 102,
   "metadata": {},
   "outputs": [
    {
     "name": "stdout",
     "output_type": "stream",
     "text": [
      "468 ns ± 10.1 ns per loop (mean ± std. dev. of 7 runs, 1000000 loops each)\n"
     ]
    }
   ],
   "source": [
    "%%timeit\n",
    "#print(testlst)\n",
    "\n",
    "leftRotatePop(testlst,2)"
   ]
  },
  {
   "cell_type": "code",
   "execution_count": null,
   "metadata": {},
   "outputs": [],
   "source": []
  },
  {
   "cell_type": "code",
   "execution_count": null,
   "metadata": {},
   "outputs": [],
   "source": []
  },
  {
   "cell_type": "code",
   "execution_count": null,
   "metadata": {},
   "outputs": [],
   "source": []
  },
  {
   "cell_type": "code",
   "execution_count": null,
   "metadata": {},
   "outputs": [],
   "source": []
  },
  {
   "cell_type": "code",
   "execution_count": null,
   "metadata": {},
   "outputs": [],
   "source": []
  },
  {
   "cell_type": "markdown",
   "metadata": {},
   "source": [
    "#### Algoexpert isValidSubsequence\n",
    "\n",
    "https://www.algoexpert.io/questions/Validate%20Subsequence"
   ]
  },
  {
   "cell_type": "code",
   "execution_count": 26,
   "metadata": {},
   "outputs": [],
   "source": [
    "def isValidSubsequence(array,sequence):\n",
    "    j=0\n",
    "    for i in range(0,len(array)):\n",
    "        print(f'i >> {i} | j >> {j}\\narray[i] >> {array[i]} | sequence[j] >> {sequence[j]}')\n",
    "        if array[i]==sequence[j]:\n",
    "            j+=1\n",
    "        if j==len(sequence):\n",
    "            print(f'i >> {i} | j >> {j}')\n",
    "            return True\n",
    "    return False"
   ]
  },
  {
   "cell_type": "code",
   "execution_count": 27,
   "metadata": {},
   "outputs": [
    {
     "name": "stdout",
     "output_type": "stream",
     "text": [
      "i >> 0 | j >> 0\n",
      "array[i] >> 5 | sequence[j] >> 1\n",
      "i >> 1 | j >> 0\n",
      "array[i] >> 1 | sequence[j] >> 1\n",
      "i >> 2 | j >> 1\n",
      "array[i] >> 22 | sequence[j] >> 6\n",
      "i >> 3 | j >> 1\n",
      "array[i] >> 25 | sequence[j] >> 6\n",
      "i >> 4 | j >> 1\n",
      "array[i] >> 6 | sequence[j] >> 6\n",
      "i >> 5 | j >> 2\n",
      "array[i] >> -1 | sequence[j] >> -1\n",
      "i >> 6 | j >> 3\n",
      "array[i] >> 8 | sequence[j] >> 10\n",
      "i >> 7 | j >> 3\n",
      "array[i] >> 10 | sequence[j] >> 10\n",
      "i >> 7 | j >> 4\n"
     ]
    },
    {
     "data": {
      "text/plain": [
       "True"
      ]
     },
     "execution_count": 27,
     "metadata": {},
     "output_type": "execute_result"
    }
   ],
   "source": [
    "array = [5,1,22,25,6,-1,8,10]\n",
    "sequence = [1,6,-1,10]\n",
    "\n",
    "isValidSubsequence(array,sequence)"
   ]
  },
  {
   "cell_type": "markdown",
   "metadata": {},
   "source": [
    "### Distinct Vowels\n",
    "\n",
    "aabeiouioueab\n",
    "\n",
    "* a:3\n",
    "* e:2\n",
    "* i:2\n",
    "* o:2\n",
    "* u:2"
   ]
  },
  {
   "cell_type": "code",
   "execution_count": 3,
   "metadata": {},
   "outputs": [],
   "source": [
    "s = 'aabeiouioueab'\n",
    "\n",
    "# space complexity = O(5)\n",
    "\n",
    "\n",
    "def distinctVowel(s):\n",
    "    \n",
    "    cnt=[0,0,0,0,0]\n",
    "    for i in s:\n",
    "        if i == 'a':\n",
    "            cnt[0] = 1\n",
    "        elif i == 'e':\n",
    "            cnt[1] = 1\n",
    "        elif i == 'i':\n",
    "            cnt[2] = 1\n",
    "        elif i == 'o':\n",
    "            cnt[3] = 1\n",
    "        elif i == 'u':\n",
    "            cnt[4] = 1\n",
    "    \n",
    "    return sum(cnt)"
   ]
  },
  {
   "cell_type": "code",
   "execution_count": 16,
   "metadata": {},
   "outputs": [
    {
     "name": "stdout",
     "output_type": "stream",
     "text": [
      "1.01 µs ± 15.3 ns per loop (mean ± std. dev. of 7 runs, 1000000 loops each)\n"
     ]
    }
   ],
   "source": [
    "%%timeit\n",
    "distinctVowel('sisieou')"
   ]
  },
  {
   "cell_type": "code",
   "execution_count": 8,
   "metadata": {},
   "outputs": [
    {
     "name": "stdout",
     "output_type": "stream",
     "text": [
      "5\n"
     ]
    },
    {
     "data": {
      "text/plain": [
       "True"
      ]
     },
     "execution_count": 8,
     "metadata": {},
     "output_type": "execute_result"
    }
   ],
   "source": [
    "setVowels = {'a','e','i','o','u'}\n",
    "\n",
    "print(len(setVowels))\n",
    "\n",
    "'e' in setVowels"
   ]
  },
  {
   "cell_type": "code",
   "execution_count": 9,
   "metadata": {},
   "outputs": [],
   "source": [
    "def isVowel(s):\n",
    "    return s in {'a','e','i','o','u'} # i in set is O(1) time complexity\n",
    "\n",
    "def disVowel(s):\n",
    "    \n",
    "    v = {'a','e','i','o','u'}\n",
    "\n",
    "    for i in s: # O(n) time complexity\n",
    "        if (i in v) and len(v)>0: # O(1) time complexity set removal\n",
    "            v.remove(i) # O(1) time complexity set removal\n",
    "    \n",
    "    return 5-len(v)"
   ]
  },
  {
   "cell_type": "code",
   "execution_count": 15,
   "metadata": {},
   "outputs": [
    {
     "name": "stdout",
     "output_type": "stream",
     "text": [
      "759 ns ± 9.98 ns per loop (mean ± std. dev. of 7 runs, 1000000 loops each)\n"
     ]
    }
   ],
   "source": [
    "%%timeit\n",
    "disVowel('sisieou')"
   ]
  },
  {
   "cell_type": "code",
   "execution_count": null,
   "metadata": {},
   "outputs": [],
   "source": []
  }
 ],
 "metadata": {
  "kernelspec": {
   "display_name": "Python 3",
   "language": "python",
   "name": "python3"
  },
  "language_info": {
   "codemirror_mode": {
    "name": "ipython",
    "version": 3
   },
   "file_extension": ".py",
   "mimetype": "text/x-python",
   "name": "python",
   "nbconvert_exporter": "python",
   "pygments_lexer": "ipython3",
   "version": "3.8.3"
  }
 },
 "nbformat": 4,
 "nbformat_minor": 4
}

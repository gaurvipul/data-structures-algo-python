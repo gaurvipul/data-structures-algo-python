{
 "cells": [
  {
   "cell_type": "markdown",
   "metadata": {},
   "source": [
    "# Sieve of Sundaram - To find prime numbers given an index n\n",
    "# Print all primes smaller than n\n",
    "\n",
    "Algo\n",
    "\n",
    "1. Sieve of Sundaram gives all prime numbers smaller than 2x+2 given an index x, so reduce the x to (x-2)/2\n",
    "    So let's give a name to the variable n_new = (n-2)/2\n",
    "    \n",
    "2. Next step, is to create an array \"marked\" which will have length = n_new and initialize it to false\n",
    "    This array is used to separate the numbers of the form i+j+2j from others \n",
    "    \n",
    "3. Mark all the numbers of the form i+j+2ij as true\n",
    "\n",
    "4. Loop for i=1 to n_new\n",
    "    a) j=i\n",
    "    b) if n>2 print 2 as first prime number\n",
    "    \n",
    "5. Remaining primes are of the form 2i+1 where i is the index of marked==false, so print 2i+1 for all i such that marked[i] is false"
   ]
  },
  {
   "cell_type": "code",
   "execution_count": 26,
   "metadata": {},
   "outputs": [],
   "source": [
    "def sieve_of_sundaram(n):\n",
    "    n_new=int((n-2)/2)\n",
    "    marked=[0]*(n_new+1)\n",
    "    prime=set()\n",
    "    \n",
    "    for i in range(1,n_new+1):\n",
    "        j=i\n",
    "        while((i+j+2*i*j)<=n_new):\n",
    "            marked[i+j+2*i*j]=1\n",
    "        j+=1\n",
    "    \n",
    "    if n>2:\n",
    "        #print('2',end= ' ')\n",
    "        prime.add(2)\n",
    "        \n",
    "    for i in range(1,n_new+1):\n",
    "        if marked[i]==0:\n",
    "            prime.add(2*i+1)\n",
    "            #print(2*i+1, end=' ')\n",
    "    return prime"
   ]
  },
  {
   "cell_type": "code",
   "execution_count": 30,
   "metadata": {},
   "outputs": [
    {
     "ename": "KeyboardInterrupt",
     "evalue": "",
     "output_type": "error",
     "traceback": [
      "\u001b[0;31m---------------------------------------------------------------------------\u001b[0m",
      "\u001b[0;31mKeyboardInterrupt\u001b[0m                         Traceback (most recent call last)",
      "\u001b[0;32m<ipython-input-30-538fc39dfc3d>\u001b[0m in \u001b[0;36m<module>\u001b[0;34m\u001b[0m\n\u001b[0;32m----> 1\u001b[0;31m \u001b[0mprime\u001b[0m\u001b[0;34m=\u001b[0m\u001b[0msieve_of_sundaram\u001b[0m\u001b[0;34m(\u001b[0m\u001b[0;36m10\u001b[0m\u001b[0;34m)\u001b[0m\u001b[0;34m\u001b[0m\u001b[0m\n\u001b[0m",
      "\u001b[0;32m<ipython-input-26-1dc1a7a65edb>\u001b[0m in \u001b[0;36msieve_of_sundaram\u001b[0;34m(n)\u001b[0m\n\u001b[1;32m      7\u001b[0m         \u001b[0mj\u001b[0m\u001b[0;34m=\u001b[0m\u001b[0mi\u001b[0m\u001b[0;34m\u001b[0m\u001b[0m\n\u001b[1;32m      8\u001b[0m         \u001b[0;32mwhile\u001b[0m\u001b[0;34m(\u001b[0m\u001b[0;34m(\u001b[0m\u001b[0mi\u001b[0m\u001b[0;34m+\u001b[0m\u001b[0mj\u001b[0m\u001b[0;34m+\u001b[0m\u001b[0;36m2\u001b[0m\u001b[0;34m*\u001b[0m\u001b[0mi\u001b[0m\u001b[0;34m*\u001b[0m\u001b[0mj\u001b[0m\u001b[0;34m)\u001b[0m\u001b[0;34m<=\u001b[0m\u001b[0mn_new\u001b[0m\u001b[0;34m)\u001b[0m\u001b[0;34m:\u001b[0m\u001b[0;34m\u001b[0m\u001b[0m\n\u001b[0;32m----> 9\u001b[0;31m             \u001b[0mmarked\u001b[0m\u001b[0;34m[\u001b[0m\u001b[0mi\u001b[0m\u001b[0;34m+\u001b[0m\u001b[0mj\u001b[0m\u001b[0;34m+\u001b[0m\u001b[0;36m2\u001b[0m\u001b[0;34m*\u001b[0m\u001b[0mi\u001b[0m\u001b[0;34m*\u001b[0m\u001b[0mj\u001b[0m\u001b[0;34m]\u001b[0m\u001b[0;34m=\u001b[0m\u001b[0;36m1\u001b[0m\u001b[0;34m\u001b[0m\u001b[0m\n\u001b[0m\u001b[1;32m     10\u001b[0m         \u001b[0mj\u001b[0m\u001b[0;34m+=\u001b[0m\u001b[0;36m1\u001b[0m\u001b[0;34m\u001b[0m\u001b[0m\n\u001b[1;32m     11\u001b[0m \u001b[0;34m\u001b[0m\u001b[0m\n",
      "\u001b[0;31mKeyboardInterrupt\u001b[0m: "
     ]
    }
   ],
   "source": [
    "prime=sieve_of_sundaram(10)"
   ]
  },
  {
   "cell_type": "code",
   "execution_count": null,
   "metadata": {},
   "outputs": [],
   "source": [
    "prime"
   ]
  },
  {
   "cell_type": "markdown",
   "metadata": {},
   "source": [
    "# Sieve of Eratosthenes - To find prime numbers given an index n\n",
    "\n",
    "Algo\n",
    "1. Create a consecutive list of integers from 2 to n\n",
    "\n",
    "2. Let p=2, first prime number\n",
    "\n",
    "3. Starting from p^2, count up in increments of p and mark each of these numbers greater than or equal to p^2 itself in the list. These numbers will be p(p+1), p(p+2), p(p+3)...\n",
    "\n",
    "4. Find the first number greater than p in the list that is not marked. If there was no such number stop, otherwise let p now equal this number and repeat from step2."
   ]
  },
  {
   "cell_type": "code",
   "execution_count": 41,
   "metadata": {},
   "outputs": [
    {
     "name": "stdout",
     "output_type": "stream",
     "text": [
      "Following are the prime numbers smaller than or equal to  30 : \n",
      "2\n",
      "3\n",
      "5\n",
      "7\n"
     ]
    }
   ],
   "source": [
    "def sieve_of_eratosthenes(n):\n",
    "    prime=[True for i in range(n+1)]\n",
    "    prime[0]=prime[1]=False\n",
    "    p=2\n",
    "    \n",
    "    while (p*p<=n):\n",
    "        if (prime[p]==True):\n",
    "            for i in range(p*p,n+1,p):\n",
    "                prime[i]=False\n",
    "        p+=1\n",
    "    \n",
    "    for p in range(2,n):\n",
    "        if prime[p]:\n",
    "            print (p)\n",
    "\n",
    "if __name__=='__main__':\n",
    "    n=30\n",
    "    print(\"Following are the prime numbers smaller than or equal to \", n, end=\" : \\n\")\n",
    "    sieve_of_eratosthenes(10)"
   ]
  },
  {
   "cell_type": "markdown",
   "metadata": {},
   "source": [
    "# Sieve of Eratosthenes - while loop and function"
   ]
  },
  {
   "cell_type": "code",
   "execution_count": 52,
   "metadata": {},
   "outputs": [],
   "source": [
    "def sieve_eratosthenes_2(n):\n",
    "    sieve = [True] * (n+1)\n",
    "    sieve[0]=sieve[1]=False\n",
    "    \n",
    "    i=2\n",
    "    while(i*i <=n):\n",
    "        if(sieve[i]):\n",
    "            k=i*i\n",
    "            while (k<=n):\n",
    "                sieve[k]=False\n",
    "                k+=i\n",
    "        i+=1\n",
    "    return sieve\n",
    "                "
   ]
  },
  {
   "cell_type": "code",
   "execution_count": 56,
   "metadata": {},
   "outputs": [
    {
     "name": "stdout",
     "output_type": "stream",
     "text": [
      "Following are the prime numbers smaller than or equal to  6 : \n",
      "2\n",
      "3\n",
      "5\n"
     ]
    }
   ],
   "source": [
    "n=6\n",
    "A=sieve_eratosthenes_2(n)\n",
    "print(\"Following are the prime numbers smaller than or equal to \", n, end=\" : \\n\")\n",
    "\n",
    "for i,val in enumerate(A):\n",
    "    if (val==True):\n",
    "        print(i)"
   ]
  },
  {
   "cell_type": "markdown",
   "metadata": {},
   "source": [
    "# Factorization using Sieve of Eratosthenes"
   ]
  },
  {
   "cell_type": "code",
   "execution_count": 62,
   "metadata": {},
   "outputs": [],
   "source": [
    "# Preparing array for factorization\n",
    "def arrayF(n):\n",
    "    F=[0]*(n+1)\n",
    "    i=2\n",
    "    \n",
    "    while(i*i<=n):\n",
    "        if(F[i]==0):\n",
    "            k=i*i\n",
    "            while (k<=n):\n",
    "                if(F[k]==0):\n",
    "                    F[k]=i\n",
    "                k+=i\n",
    "        i+=1\n",
    "    return F\n",
    "\n",
    "# Factorizaton of x\n",
    "def factorization(x, F):\n",
    "    primeFactors=[]\n",
    "    while(int(F[x])>0):\n",
    "        primeFactors+=[F[x]]\n",
    "        x/=F[x]\n",
    "    primeFactors+=[x]\n",
    "    return primeFactors"
   ]
  },
  {
   "cell_type": "code",
   "execution_count": null,
   "metadata": {},
   "outputs": [],
   "source": [
    "factorization(20,arrayF(20))"
   ]
  },
  {
   "cell_type": "markdown",
   "metadata": {},
   "source": [
    "# CountSemiPrimes- Codility"
   ]
  },
  {
   "cell_type": "code",
   "execution_count": 72,
   "metadata": {},
   "outputs": [],
   "source": [
    "\n",
    "\n",
    "def sieve_semiprimes(n):\n",
    "    semi=set()\n",
    "    sieve=[True]*(n+1)\n",
    "    i=2\n",
    "    while (i*i<=n):\n",
    "        if (sieve[i]==True):\n",
    "            for j in range(i*i,n+1,i):\n",
    "                sieve[j]=False\n",
    "        i+=1\n",
    "\n",
    "    i=2\n",
    "    while (i*i<=n):\n",
    "        if (sieve[i]==True):\n",
    "            for j in range(i*i,n+1,i):\n",
    "                if (j%i==0 and sieve(j/i)==True):\n",
    "                    semi.add(j)\n",
    "        i+=1\n",
    "    return semi\n",
    "        \n",
    "\n",
    "def solution(N,P,Q):\n",
    "    semi_set=sieve_semiprimes(N)\n",
    "    prefix=[]\n",
    "    \n",
    "    prefix.append(0)\n",
    "    prefix.append(0)\n",
    "    prefix.append(0)\n",
    "    prefix.append(0)\n",
    "    prefix.append(1)\n",
    "    \n",
    "    for idx in range(5,max(Q)+1):\n",
    "        if idx in semi_set:\n",
    "            prefix.append(prefix[-1]+1)\n",
    "        else:\n",
    "            prefix.append(prefix[-1])\n",
    "    \n",
    "    solution=[]\n",
    "    \n",
    "    for idx in range(len(Q)):\n",
    "        solution.append(prefix[Q[idx]]-prefix[P[idx]-1])\n",
    "        \n",
    "    return solution\n"
   ]
  },
  {
   "cell_type": "code",
   "execution_count": 79,
   "metadata": {},
   "outputs": [],
   "source": [
    "def sieve(N):\n",
    "    semi = set()\n",
    "    sieve = [True]* (N+1)\n",
    "    sieve[0] = sieve[1] = False\n",
    " \n",
    "    i = 2\n",
    "    while (i*i <= N):\n",
    "        if sieve[i] == True:\n",
    "            for j in range(i*i, N+1, i):\n",
    "                sieve[j] = False\n",
    "        i += 1\n",
    " \n",
    "    i = 2\n",
    "    while (i*i <= N):\n",
    "        if sieve[i] == True:\n",
    "            for j in range(i*i, N+1, i):\n",
    "                if (j % i == 0 and sieve[int(j/i)] == True):\n",
    "                    semi.add(j)\n",
    "        i += 1\n",
    " \n",
    "    return semi\n",
    " \n",
    "def solution(N, P, Q):\n",
    " \n",
    "    semi_set = sieve(N)\n",
    " \n",
    "    prefix = []\n",
    " \n",
    "    prefix.append(0) # 0\n",
    "    prefix.append(0) # 1\n",
    "    prefix.append(0) # 2\n",
    "    prefix.append(0) # 3\n",
    "    prefix.append(1) # 4\n",
    " \n",
    "    for idx in range(5, max(Q)+1):\n",
    "        if idx in semi_set:\n",
    "            prefix.append(prefix[-1]+1)\n",
    "        else:\n",
    "            prefix.append(prefix[-1])\n",
    " \n",
    "    solution = []\n",
    " \n",
    "    for idx in range(len(Q)):\n",
    "        solution.append(prefix[Q[idx]] - prefix[P[idx]-1])\n",
    " \n",
    "    return solution"
   ]
  },
  {
   "cell_type": "code",
   "execution_count": 80,
   "metadata": {},
   "outputs": [
    {
     "data": {
      "text/plain": [
       "[10, 4, 0]"
      ]
     },
     "execution_count": 80,
     "metadata": {},
     "output_type": "execute_result"
    }
   ],
   "source": [
    "solution(26,P,Q)"
   ]
  },
  {
   "cell_type": "markdown",
   "metadata": {},
   "source": [
    "# Number of divisors - martin kysel"
   ]
  },
  {
   "cell_type": "code",
   "execution_count": 137,
   "metadata": {},
   "outputs": [],
   "source": [
    "A=[3,1,2,3,6]\n",
    "def solution(A):\n",
    "    div=[]\n",
    "    for i in range(len(A)):\n",
    "        div.append('Start')\n",
    "        cnt=0\n",
    "        cntr=[]\n",
    "        for j in range(len(A)):\n",
    "            if ((A[i]%A[j])!=0):\n",
    "                cnt+=1\n",
    "                cntr.append(cnt)\n",
    "                div.append(max(cntr))\n",
    "            else:\n",
    "                div.append(0)\n",
    "            \n",
    "    return div"
   ]
  },
  {
   "cell_type": "code",
   "execution_count": 136,
   "metadata": {},
   "outputs": [
    {
     "data": {
      "text/plain": [
       "['Start',\n",
       " 0,\n",
       " 0,\n",
       " 1,\n",
       " 0,\n",
       " 2,\n",
       " 'Start',\n",
       " 1,\n",
       " 0,\n",
       " 2,\n",
       " 3,\n",
       " 4,\n",
       " 'Start',\n",
       " 1,\n",
       " 0,\n",
       " 0,\n",
       " 2,\n",
       " 3,\n",
       " 'Start',\n",
       " 0,\n",
       " 0,\n",
       " 1,\n",
       " 0,\n",
       " 2,\n",
       " 'Start',\n",
       " 0,\n",
       " 0,\n",
       " 0,\n",
       " 0,\n",
       " 0]"
      ]
     },
     "execution_count": 136,
     "metadata": {},
     "output_type": "execute_result"
    }
   ],
   "source": [
    "solution(A)\n",
    "#cnt=[1,2,3,4]\n",
    "#max(cnt)"
   ]
  },
  {
   "cell_type": "code",
   "execution_count": 1,
   "metadata": {},
   "outputs": [],
   "source": [
    "def maxPathSum(ar1,ar2 , m): \n",
    "      \n",
    "    # initialize indexes for ar1[] and ar2[] \n",
    "    i, j = 0, 0\n",
    "      \n",
    "    # Initialize result and current sum through ar1[] and ar2[] \n",
    "    result, sum1, sum2= 0, 0, 0\n",
    "    \n",
    "    n=len(ar1)-m\n",
    "\n",
    "    # Below 3 loops are similar to merge in merge sort \n",
    "    while (i < m and j < n): \n",
    "        \n",
    "        # Add elements of ar1[] to sum1 \n",
    "        if ar1[i] < ar2[j]: \n",
    "            sum1 += ar1[i] \n",
    "            i+=1\n",
    "          \n",
    "        # Add elements of ar2[] to sum1     \n",
    "        elif ar1[i] > ar2[j]: \n",
    "            sum2 += ar2[j] \n",
    "            j+=1\n",
    "          \n",
    "        else:   # we reached a common point \n",
    "          \n",
    "            # Take the maximum of two sums and add to result \n",
    "            result+= max(sum1,sum2) \n",
    "              \n",
    "            # Update sum1 and sum2 for elements after this intersection point \n",
    "            sum1, sum2 = 0, 0\n",
    "              \n",
    "            # Keep updating result while there are more common elements \n",
    "            while (i < m and j < n and ar1[i]==ar2[j]): \n",
    "                result += ar1[i] \n",
    "                i+=1\n",
    "                j+=1\n",
    "      \n",
    "    # Add remaining elements of ar1[] \n",
    "    while i < m: \n",
    "        sum1 += ar1[i] \n",
    "        i+=1\n",
    "    # Add remaining elements of b[] \n",
    "    while j < n: \n",
    "        sum2 += ar2[j] \n",
    "        j+=1\n",
    "      \n",
    "    # Add maximum of two sums of remaining elements \n",
    "    result += max(sum1,sum2) \n",
    "      \n",
    "    return result\n"
   ]
  },
  {
   "cell_type": "code",
   "execution_count": 2,
   "metadata": {},
   "outputs": [
    {
     "data": {
      "text/plain": [
       "6"
      ]
     },
     "execution_count": 2,
     "metadata": {},
     "output_type": "execute_result"
    }
   ],
   "source": [
    "a=[4,2,1]\n",
    "b=[2,5,3]\n",
    "f=2 \n",
    "maxPathSum(a,b,f)"
   ]
  },
  {
   "cell_type": "code",
   "execution_count": 157,
   "metadata": {},
   "outputs": [],
   "source": [
    "A=[23171,21011,21123,21366,21013,21367]"
   ]
  },
  {
   "cell_type": "code",
   "execution_count": 158,
   "metadata": {},
   "outputs": [],
   "source": [
    "def sol(A):\n",
    "    max_profit = max_day = 0\n",
    "    min_day=200000\n",
    "    \n",
    "    for day in A:\n",
    "        min_day=min(min_day,day)\n",
    "        max_profit=max(max_profit,day-min_day)\n",
    "    return max_profit"
   ]
  },
  {
   "cell_type": "code",
   "execution_count": 159,
   "metadata": {},
   "outputs": [
    {
     "data": {
      "text/plain": [
       "356"
      ]
     },
     "execution_count": 159,
     "metadata": {},
     "output_type": "execute_result"
    }
   ],
   "source": [
    "sol(A)"
   ]
  },
  {
   "cell_type": "code",
   "execution_count": null,
   "metadata": {},
   "outputs": [],
   "source": []
  }
 ],
 "metadata": {
  "kernelspec": {
   "display_name": "Python 3",
   "language": "python",
   "name": "python3"
  },
  "language_info": {
   "codemirror_mode": {
    "name": "ipython",
    "version": 3
   },
   "file_extension": ".py",
   "mimetype": "text/x-python",
   "name": "python",
   "nbconvert_exporter": "python",
   "pygments_lexer": "ipython3",
   "version": "3.6.0"
  }
 },
 "nbformat": 4,
 "nbformat_minor": 2
}

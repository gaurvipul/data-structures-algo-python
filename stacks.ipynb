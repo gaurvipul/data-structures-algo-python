{
 "cells": [
  {
   "cell_type": "markdown",
   "metadata": {},
   "source": [
    "# Stacks can be really useful when you care about the most recent elements or the order in which you see or save the elements really matters\n",
    "\n",
    "#### for example, news feeds, you'll want to see the most recent item first but you'll need to show all elements when the user scrolls down\n",
    "\n",
    "     When you add an element to stack, operation is called Push\n",
    "     When you take an element out of stack, operation is called Pop\n",
    "     If you see, in both operations we are looking at the top element of the stack, so the cost of both operations is constant -> O(1).\n",
    "\n",
    "     Since stack is pretty abstract data structure, it can be implemented with another data type\n",
    "\n",
    "### We'll use a linked list to implement a stack\n",
    "###### In this case, we will just keep track of the front of a singly linked list and just keep adding elements on top as we proceed.\n",
    "\n",
    "#### LIFO  - Last In First Out \n",
    "    Last element you put in stack using \"Push\", will be the first to get from the stack using \"Pop\""
   ]
  },
  {
   "cell_type": "code",
   "execution_count": 4,
   "metadata": {},
   "outputs": [],
   "source": [
    "class Element(object):\n",
    "    def __init__(self, value):\n",
    "        self.value=value\n",
    "        self.next=None\n",
    "\n",
    "class LinkedList(object):\n",
    "    def __init__(self,head=None):\n",
    "        self.head=head\n",
    "        \n",
    "    def append(self,new_element):\n",
    "        '''appending an element to end of linked list'''\n",
    "        current=self.head #creating a variable to reprensent current element, setting it equal to head\n",
    "        if self.head: # if head exists, then looping to end of the list and then adding the new_element\n",
    "            while current.next:\n",
    "                current=current.next\n",
    "            current.next=new_element\n",
    "        else: # if head doesn't exist, then setting head to new_element\n",
    "            self.head=new_element\n",
    "        \n",
    "    def insert_first(self, new_element):\n",
    "        \"Insert new element as the head of the LinkedList\"\n",
    "        new_element.next = self.head # setting new_element to point to point to existing \n",
    "        self.head = new_element # now assigning self.head to be next element\n",
    "\n",
    "    def delete_first(self):\n",
    "        \"Delete the first (head) element in the LinkedList as return it\"\n",
    "        if self.head:\n",
    "            deleted_element = self.head # creating a variable and assigned it to current self.head\n",
    "            temp = deleted_element.next # creating a temp variable and assigned it to point to next element in list\n",
    "            self.head = temp # setting temp variable to be self.head\n",
    "            return deleted_element # Ack that delete has happened and sending out the deleted element index\n",
    "        else:\n",
    "            return None\n",
    "\n",
    "class Stack(object):\n",
    "    \n",
    "    def __init__(self, top=None):\n",
    "        self.ll=LinkedList(top)\n",
    "\n",
    "    def push(self, new_element):\n",
    "        \"Push (add) a new element onto the top of a stack\"\n",
    "        self.ll.insert_first(new_element)\n",
    "        \n",
    "    def pop(self):\n",
    "        return self.ll.delete_first()"
   ]
  },
  {
   "cell_type": "markdown",
   "metadata": {},
   "source": [
    "# Running a few Test Cases to test Stack implementation"
   ]
  },
  {
   "cell_type": "markdown",
   "metadata": {},
   "source": [
    "##### Setting up some elements"
   ]
  },
  {
   "cell_type": "code",
   "execution_count": 10,
   "metadata": {},
   "outputs": [],
   "source": [
    "e1=Element(1)\n",
    "e2=Element(2)\n",
    "e3=Element(3)\n",
    "e4=Element(4)"
   ]
  },
  {
   "cell_type": "markdown",
   "metadata": {},
   "source": [
    "##### Setting up a stack and testing the methods"
   ]
  },
  {
   "cell_type": "code",
   "execution_count": 16,
   "metadata": {},
   "outputs": [
    {
     "name": "stdout",
     "output_type": "stream",
     "text": [
      "First pop should print 3 >>  3\n",
      "First pop should print 2 >>  2\n",
      "First pop should print 1 >>  1\n",
      "Popping again, we have exhausted all elements, so it should return None >> None\n"
     ]
    }
   ],
   "source": [
    "stack=Stack(e1)\n",
    "stack.push(e2)\n",
    "stack.push(e3)\n",
    "\n",
    "print('First pop should print 3 >> ',stack.pop().value) # this should print 3\n",
    "print('First pop should print 2 >> ',stack.pop().value) # this should print 2\n",
    "print('First pop should print 1 >> ',stack.pop().value) # this should print 1\n",
    "print('Popping again, we have exhausted all elements, so it should return None >>',stack.pop())"
   ]
  },
  {
   "cell_type": "code",
   "execution_count": 15,
   "metadata": {},
   "outputs": [
    {
     "name": "stdout",
     "output_type": "stream",
     "text": [
      "Printing newly added 4th value, should print 4 >>  4\n"
     ]
    }
   ],
   "source": [
    "stack.push(e4)\n",
    "print('Printing newly added 4th value, should print 4 >> ', stack.pop().value)"
   ]
  }
 ],
 "metadata": {
  "kernelspec": {
   "display_name": "Python [conda env:numpy-course]",
   "language": "python",
   "name": "conda-env-numpy-course-py"
  },
  "language_info": {
   "codemirror_mode": {
    "name": "ipython",
    "version": 3
   },
   "file_extension": ".py",
   "mimetype": "text/x-python",
   "name": "python",
   "nbconvert_exporter": "python",
   "pygments_lexer": "ipython3",
   "version": "3.5.6"
  }
 },
 "nbformat": 4,
 "nbformat_minor": 2
}

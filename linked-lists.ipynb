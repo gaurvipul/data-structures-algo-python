{
 "cells": [
  {
   "cell_type": "code",
   "execution_count": 60,
   "metadata": {
    "nbpresent": {
     "id": "1ddc37a2-00c7-40f7-8534-c19ba8a67dbd"
    }
   },
   "outputs": [],
   "source": [
    "class Element(object):\n",
    "    def __init__(self, value):\n",
    "        self.value=value\n",
    "        self.next=None\n",
    "\n",
    "class LinkedList(object):\n",
    "    def __init__(self,head=None):\n",
    "        self.head=head\n",
    "        \n",
    "    def append(self,new_element):\n",
    "        '''appending an element to end of linked list'''\n",
    "        current=self.head #creating a variable to reprensent current element, setting it equal to head\n",
    "        if self.head: # if head exists, then looping to end of the list and then adding the new_element\n",
    "            while current.next:\n",
    "                current=current.next\n",
    "            current.next=new_element\n",
    "        else: # if head doesn't exist, then setting head to new_element\n",
    "            self.head=new_element\n",
    "    \n",
    "    def get_position(self,position):\n",
    "        '''getting element from a particular position, assuming first position equal to 1\n",
    "           Return \"None\" if position is not in the list.'''\n",
    "        pos_now=1 #setting up a counter variable and initializing its value to 1\n",
    "        \n",
    "        current = self.head # setting current to point to head\n",
    "        \n",
    "        if position<1:\n",
    "            return None\n",
    "        \n",
    "        while current and pos_now<=position: # iterating from head till counter equals position\n",
    "            if pos_now==position:\n",
    "                return current\n",
    "            current=current.next\n",
    "            pos_now += 1\n",
    "        \n",
    "        return None # returning None in case position is not there\n",
    "    \n",
    "    def insert(self,new_element,position):\n",
    "        '''Inserting new element in a linked list, assuming first position is 1 \n",
    "           Inserting at position 9 would mean adding between 8 and 9 elements'''\n",
    "        current = self.head\n",
    "        pos_now = 1\n",
    "        if position>1:\n",
    "            while current and pos_now<position:\n",
    "                if pos_now==position-1:\n",
    "                    print ('posnow=position',pos_now,position)\n",
    "                    new_element.next = current.next\n",
    "                    current.next = new_element\n",
    "                    print(new_element.next.value)\n",
    "                    print(current.next.value)\n",
    "                pos_now += 1\n",
    "                current=current.next\n",
    "        elif position==1:\n",
    "            new_element.next = self.head\n",
    "            self.head = new_element\n",
    "\n",
    "    def delete(self,value):\n",
    "        '''Delete the first node of given value'''\n",
    "        current=self.head\n",
    "        previous=None\n",
    "        \n",
    "        while current.value != value and current.next:\n",
    "            previous=current\n",
    "            current=current.next\n",
    "        if current.value==value:\n",
    "            if previous:\n",
    "                previous.next=current.next\n",
    "            else:\n",
    "                self.head=current.next\n",
    "        "
   ]
  },
  {
   "cell_type": "code",
   "execution_count": 76,
   "metadata": {
    "nbpresent": {
     "id": "a01f4be3-d08f-4d2c-bd2f-9abb209f01fe"
    }
   },
   "outputs": [
    {
     "name": "stdout",
     "output_type": "stream",
     "text": [
      "1\n",
      "2\n",
      "3\n",
      "4\n",
      "5\n",
      "6\n",
      "7\n",
      "8\n",
      "9\n",
      "10\n"
     ]
    }
   ],
   "source": [
    "# testing the different methods of linked-list class\n",
    "\n",
    "# Setting up Elements\n",
    "e1=Element(1)\n",
    "e2=Element(2)\n",
    "e3=Element(3)\n",
    "e4=Element(4)\n",
    "e5=Element(5)\n",
    "e6=Element(6)\n",
    "e7=Element(7)\n",
    "e8=Element(8)\n",
    "e9=Element(9)\n",
    "e10=Element(10)\n",
    "\n",
    "# Setting up linked list\n",
    "l1=LinkedList(e1)\n",
    "l1.append(e2)\n",
    "l1.append(e3)\n",
    "l1.append(e4)\n",
    "l1.append(e5)\n",
    "l1.append(e6)\n",
    "l1.append(e7)\n",
    "l1.append(e8)\n",
    "l1.append(e9)\n",
    "l1.append(e10)\n",
    "\n",
    "print(l1.get_position(1).value) # It should print 9\n",
    "print(l1.get_position(2).value)\n",
    "print(l1.get_position(3).value)\n",
    "print(l1.get_position(4).value)\n",
    "print(l1.get_position(5).value)\n",
    "print(l1.get_position(6).value)\n",
    "print(l1.get_position(7).value)\n",
    "print(l1.get_position(8).value)\n",
    "print(l1.get_position(9).value)\n",
    "print(l1.get_position(10).value)\n",
    "#print(l1.get_position(11).value)"
   ]
  },
  {
   "cell_type": "code",
   "execution_count": 64,
   "metadata": {
    "nbpresent": {
     "id": "e941cf7d-7806-4827-bb4d-38355e406ef8"
    }
   },
   "outputs": [
    {
     "name": "stdout",
     "output_type": "stream",
     "text": [
      "1\n",
      "2\n",
      "3\n",
      "4\n",
      "5\n",
      "6\n",
      "7\n",
      "8\n",
      "9\n",
      "10\n"
     ]
    }
   ],
   "source": [
    "# Testing get_position method\n",
    "\n",
    "# getting element at position 9\n",
    "#print (l1.head.next.next.next.next.next.next.next.next.value) # Should print 9\n",
    "\n",
    "# Checking the get_position methon\n",
    "print(l1.get_position(1).value) # It should print 9\n",
    "print(l1.get_position(2).value)\n",
    "print(l1.get_position(3).value)\n",
    "print(l1.get_position(4).value)\n",
    "print(l1.get_position(5).value)\n",
    "print(l1.get_position(6).value)\n",
    "print(l1.get_position(7).value)\n",
    "print(l1.get_position(8).value)\n",
    "print(l1.get_position(9).value)\n",
    "print(l1.get_position(10).value)\n",
    "#print(l1.get_position(11).value)"
   ]
  },
  {
   "cell_type": "code",
   "execution_count": 78,
   "metadata": {
    "nbpresent": {
     "id": "805acba8-2bdd-4462-82df-86631b532909"
    },
    "scrolled": true
   },
   "outputs": [
    {
     "name": "stdout",
     "output_type": "stream",
     "text": [
      "posnow=position 1 2\n",
      "1\n",
      "1\n",
      "-------------------------------\n",
      "1\n",
      "1\n",
      "1\n",
      "1\n",
      "1\n",
      "1\n",
      "1\n",
      "1\n",
      "1\n",
      "1\n",
      "1\n"
     ]
    }
   ],
   "source": [
    "# Testing insert method\n",
    "e=4\n",
    "l1.insert(e1,2)\n",
    "\n",
    "#print(l1.get_position(5).value)\n",
    "print('-------------------------------')\n",
    "print(l1.get_position(1).value) # It should print 9\n",
    "print(l1.get_position(2).value)\n",
    "print(l1.get_position(3).value)\n",
    "print(l1.get_position(4).value)\n",
    "print(l1.get_position(5).value)\n",
    "print(l1.get_position(6).value)\n",
    "print(l1.get_position(7).value)\n",
    "print(l1.get_position(8).value)\n",
    "print(l1.get_position(9).value)\n",
    "print(l1.get_position(10).value)\n",
    "print(l1.get_position(11).value)"
   ]
  }
 ],
 "metadata": {
  "kernelspec": {
   "display_name": "Python [conda env:numpy-course]",
   "language": "python",
   "name": "conda-env-numpy-course-py"
  },
  "language_info": {
   "codemirror_mode": {
    "name": "ipython",
    "version": 3
   },
   "file_extension": ".py",
   "mimetype": "text/x-python",
   "name": "python",
   "nbconvert_exporter": "python",
   "pygments_lexer": "ipython3",
   "version": "3.5.6"
  }
 },
 "nbformat": 4,
 "nbformat_minor": 2
}

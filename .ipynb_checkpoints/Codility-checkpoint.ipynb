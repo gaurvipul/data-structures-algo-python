{
 "cells": [
  {
   "cell_type": "markdown",
   "metadata": {},
   "source": [
    "# Lesson 1: Iterations : Binary Gap #1 \n",
    "https://codility.com/media/train/Iterations.pdf\n",
    "\n",
    "A binary gap within a positive integer N is any maximal sequence of consecutive zeros that is surrounded by ones at both ends in the binary representation of N.\n",
    "\n",
    "For example, number 9 has binary representation 1001 and contains a binary gap of length 2. The number 529 has binary representation 1000010001 and contains two binary gaps: one of length 4 and one of length 3. The number 20 has binary representation 10100 and contains one binary gap of length 1. The number 15 has binary representation 1111 and has no binary gaps. The number 32 has binary representation 100000 and has no binary gaps.\n",
    "\n",
    "Write a function:\n",
    "\n",
    "def solution(N)\n",
    "\n",
    "that, given a positive integer N, returns the length of its longest binary gap. The function should return 0 if N doesn't contain a binary gap.\n",
    "\n",
    "For example, given N = 1041 the function should return 5, because N has binary representation 10000010001 and so its longest binary gap is of length 5. Given N = 32 the function should return 0, because N has binary representation '100000' and thus no binary gaps.\n",
    "\n",
    "Write an efficient algorithm for the following assumptions:\n",
    "\n",
    "N is an integer within the range [1..2,147,483,647]."
   ]
  },
  {
   "cell_type": "code",
   "execution_count": 4,
   "metadata": {},
   "outputs": [
    {
     "name": "stdout",
     "output_type": "stream",
     "text": [
      "format(N,'b') >>>> 10000010001\n",
      "format(N, 'b').strip('0') >>>>  10000010001\n",
      "format(N, 'b').strip('0').split('1') >>>>  ['', '00000', '000', '']\n"
     ]
    },
    {
     "data": {
      "text/plain": [
       "5"
      ]
     },
     "execution_count": 4,
     "metadata": {},
     "output_type": "execute_result"
    }
   ],
   "source": [
    "# 100% but performance not assessed\n",
    "\n",
    "def solution(N):\n",
    "    print(\"format(N,'b') >>>>\", format(N,'b')) # convert number to binary\n",
    "    print(\"format(N, 'b').strip('0') >>>> \",format(N, 'b').strip('0')) # strip trailing zeros as they are inconsequential to the problem\n",
    "    print(\"format(N, 'b').strip('0').split('1') >>>> \",format(N, 'b').strip('0').split('1'),end=\"\\n\") # Split from 1 into strings of zeros\n",
    "    return len(max(format(N, 'b').strip('0').split('1')))  # return max length string\n",
    "\n",
    "solution(1041)"
   ]
  },
  {
   "cell_type": "markdown",
   "metadata": {},
   "source": [
    "# Lesson 2: Arrays #2\n",
    "https://codility.com/media/train/0-Arrays.pdf\n",
    "\n"
   ]
  },
  {
   "cell_type": "code",
   "execution_count": 11,
   "metadata": {},
   "outputs": [
    {
     "name": "stdout",
     "output_type": "stream",
     "text": [
      "0  >>>>>  2\n",
      "4\n",
      "1  >>>>>  2\n",
      "3\n"
     ]
    },
    {
     "data": {
      "text/plain": [
       "[5, 4, 3, 2, 1]"
      ]
     },
     "execution_count": 11,
     "metadata": {},
     "output_type": "execute_result"
    }
   ],
   "source": [
    "# Reversing an Array by iterating over the array midpoint and reversing the indexes\n",
    "def reverseArray(A):\n",
    "    for index in range(len(A)//2):\n",
    "        print(index,' >>>>> ',len(A)//2)\n",
    "        k=len(A)-index-1\n",
    "        print(k)\n",
    "        A[index], A[k] = A[k], A[index]\n",
    "    return A\n",
    "\n",
    "reverseArray([1,2,3,4,5])"
   ]
  },
  {
   "cell_type": "markdown",
   "metadata": {},
   "source": [
    "# Lesson 2: Arrays : Cyclic Rotation #3\n",
    "\n",
    "An array A consisting of N integers is given. Rotation of the array means that each element is shifted right by one index, and the last element of the array is moved to the first place. For example, the rotation of array A = [3, 8, 9, 7, 6] is [6, 3, 8, 9, 7] (elements are shifted right by one index and 6 is moved to the first place).\n",
    "\n",
    "The goal is to rotate array A K times; that is, each element of A will be shifted to the right K times.\n",
    "\n",
    "Write a function:\n",
    "\n",
    "def solution(A, K)\n",
    "\n",
    "that, given an array A consisting of N integers and an integer K, returns the array A rotated K times.\n",
    "\n",
    "For example, given\n",
    "\n",
    "    A = [3, 8, 9, 7, 6]\n",
    "    K = 3\n",
    "the function should return [9, 7, 6, 3, 8]. Three rotations were made:\n",
    "\n",
    "    [3, 8, 9, 7, 6] -> [6, 3, 8, 9, 7]\n",
    "    [6, 3, 8, 9, 7] -> [7, 6, 3, 8, 9]\n",
    "    [7, 6, 3, 8, 9] -> [9, 7, 6, 3, 8]\n",
    "For another example, given\n",
    "\n",
    "    A = [0, 0, 0]\n",
    "    K = 1\n",
    "the function should return [0, 0, 0]\n",
    "\n",
    "Given\n",
    "\n",
    "    A = [1, 2, 3, 4]\n",
    "    K = 4\n",
    "the function should return [1, 2, 3, 4]\n",
    "\n",
    "Assume that:\n",
    "\n",
    "N and K are integers within the range [0..100];\n",
    "each element of array A is an integer within the range [−1,000..1,000].\n",
    "In your solution, focus on correctness. The performance of your solution will not be the focus of the assessment."
   ]
  },
  {
   "cell_type": "code",
   "execution_count": 13,
   "metadata": {},
   "outputs": [
    {
     "name": "stdout",
     "output_type": "stream",
     "text": [
      "[1, 2, 3, 4]\n",
      "[0, 0, 0]\n",
      "[9, 7, 6, 3, 8]\n"
     ]
    }
   ],
   "source": [
    "# 100% accuracy performance not assessed\n",
    "\n",
    "def solution(A, K):\n",
    "    if len(A)==0:\n",
    "        return A\n",
    "    K = K%len(A)\n",
    "    return A[-K:]+A[:-K]\n",
    "\n",
    "print(solution([1, 2, 3, 4],4))\n",
    "print(solution([0, 0, 0],1))\n",
    "print(solution([3, 8, 9, 7, 6],3))"
   ]
  },
  {
   "cell_type": "markdown",
   "metadata": {},
   "source": [
    "# Lesson 2: Arrays : OddOccurrencesInArray #4\n",
    "A non-empty array A consisting of N integers is given. The array contains an odd number of elements, and each element of the array can be paired with another element that has the same value, except for one element that is left unpaired.\n",
    "\n",
    "For example, in array A such that:\n",
    "\n",
    "  A[0] = 9  A[1] = 3  A[2] = 9\n",
    "  A[3] = 3  A[4] = 9  A[5] = 7\n",
    "  A[6] = 9\n",
    "the elements at indexes 0 and 2 have value 9,\n",
    "the elements at indexes 1 and 3 have value 3,\n",
    "the elements at indexes 4 and 6 have value 9,\n",
    "the element at index 5 has value 7 and is unpaired.\n",
    "Write a function:\n",
    "\n",
    "def solution(A)\n",
    "\n",
    "that, given an array A consisting of N integers fulfilling the above conditions, returns the value of the unpaired element.\n",
    "\n",
    "For example, given array A such that:\n",
    "\n",
    "  A[0] = 9  A[1] = 3  A[2] = 9\n",
    "  A[3] = 3  A[4] = 9  A[5] = 7\n",
    "  A[6] = 9\n",
    "the function should return 7, as explained in the example above.\n",
    "\n",
    "Write an efficient algorithm for the following assumptions:\n",
    "\n",
    "N is an odd integer within the range [1..1,000,000];\n",
    "each element of array A is an integer within the range [1..1,000,000,000];\n",
    "all but one of the values in A occur an even number of times."
   ]
  },
  {
   "cell_type": "code",
   "execution_count": 61,
   "metadata": {},
   "outputs": [
    {
     "data": {
      "text/plain": [
       "7"
      ]
     },
     "execution_count": 61,
     "metadata": {},
     "output_type": "execute_result"
    }
   ],
   "source": [
    "# 66% - 80% in correctness and 50% in performance\n",
    "\n",
    "from collections import Counter,OrderedDict\n",
    "\n",
    "#class OrderedCounter(Counter, OrderedDict):\n",
    "#    pass\n",
    "\n",
    "def solution(A):\n",
    "    cnt=Counter(A)\n",
    "    \n",
    "    cnt2=dict((v,k) for k,v in cnt.items())\n",
    "    od=OrderedDict(sorted(cnt2.items()))\n",
    "    \n",
    "    #for k, v in od.items(): print (k, v)\n",
    "    \n",
    "    #print(od[1])\n",
    "\n",
    "    return od[1]\n",
    "\n",
    "solution([9,3,9,3,9,7,9,90,90,90,90,90,90])"
   ]
  },
  {
   "cell_type": "code",
   "execution_count": 62,
   "metadata": {},
   "outputs": [
    {
     "data": {
      "text/plain": [
       "7"
      ]
     },
     "execution_count": 62,
     "metadata": {},
     "output_type": "execute_result"
    }
   ],
   "source": [
    "# 100%\n",
    "\n",
    "# Using XOR, XOR of each number with itself will result in zero\n",
    "# anything which is unmatched will be returned\n",
    "\n",
    "def solution(A):\n",
    "    result = 0\n",
    "    for number in A:\n",
    "        result ^= number \n",
    "    return result\n",
    "\n",
    "solution([9,3,9,3,9,7,9,90,90,90,90,90,90])"
   ]
  },
  {
   "cell_type": "markdown",
   "metadata": {},
   "source": [
    "# Lesson 3: Time Complexity : FrogJmp #5\n",
    "https://codility.com/media/train/1-TimeComplexity.pdf\n",
    "\n",
    "A small frog wants to get to the other side of the road. The frog is currently located at position X and wants to get to a position greater than or equal to Y. The small frog always jumps a fixed distance, D.\n",
    "\n",
    "Count the minimal number of jumps that the small frog must perform to reach its target.\n",
    "\n",
    "Write a function:\n",
    "\n",
    "def solution(X, Y, D)\n",
    "\n",
    "that, given three integers X, Y and D, returns the minimal number of jumps from position X to a position equal to or greater than Y.\n",
    "\n",
    "For example, given:\n",
    "\n",
    "  - X = 10\n",
    "  - Y = 85\n",
    "  - D = 30\n",
    "the function should return 3, because the frog will be positioned as follows:\n",
    "\n",
    "after the first jump, at position 10 + 30 = 40\n",
    "after the second jump, at position 10 + 30 + 30 = 70\n",
    "after the third jump, at position 10 + 30 + 30 + 30 = 100\n",
    "Write an efficient algorithm for the following assumptions:\n",
    "\n",
    "X, Y and D are integers within the range [1..1,000,000,000];\n",
    "X ≤ Y."
   ]
  },
  {
   "cell_type": "code",
   "execution_count": 68,
   "metadata": {},
   "outputs": [
    {
     "data": {
      "text/plain": [
       "3"
      ]
     },
     "execution_count": 68,
     "metadata": {},
     "output_type": "execute_result"
    }
   ],
   "source": [
    "def solution(X,Y,D):\n",
    "    distance=Y-X\n",
    "    if (distance%D==0):\n",
    "        return distance//D\n",
    "    else:\n",
    "        return distance//D + 1\n",
    "\n",
    "solution(10,85,30)"
   ]
  },
  {
   "cell_type": "markdown",
   "metadata": {},
   "source": [
    "# Lesson 3: Time Complexity: PermMissingElem #7\n",
    "\n",
    "https://www.youtube.com/watch?v=Dq0jQX3YNKg&t=336s\n",
    "\n",
    "An array A consisting of N different integers is given. The array contains integers in the range [1..(N + 1)], which means that exactly one element is missing.\n",
    "\n",
    "Your goal is to find that missing element.\n",
    "\n",
    "Write a function:\n",
    "\n",
    "def solution(A)\n",
    "\n",
    "that, given an array A, returns the value of the missing element.\n",
    "\n",
    "For example, given array A such that:\n",
    "\n",
    "  A[0] = 2\n",
    "  A[1] = 3\n",
    "  A[2] = 1\n",
    "  A[3] = 5\n",
    "the function should return 4, as it is the missing element.\n",
    "\n",
    "Write an efficient algorithm for the following assumptions:\n",
    "\n",
    "N is an integer within the range [0..100,000];\n",
    "the elements of A are all distinct;\n",
    "each element of array A is an integer within the range [1..(N + 1)].\n"
   ]
  },
  {
   "cell_type": "code",
   "execution_count": 7,
   "metadata": {},
   "outputs": [
    {
     "data": {
      "text/plain": [
       "4"
      ]
     },
     "execution_count": 7,
     "metadata": {},
     "output_type": "execute_result"
    }
   ],
   "source": [
    "# 100%\n",
    "\n",
    "# Again using XOR to find missing elements\n",
    "\n",
    "# Same problem can be solved by Addition subtraction but it would create overflow for larger \n",
    "# arrays and larger numbers\n",
    "\n",
    "# XOR is a bitwise operator, very fast and also doesn't create overflow like addition and subtraction\n",
    "\n",
    "def solution(A):\n",
    "    xor_sum=0\n",
    "    for i in range(0,len(A)):\n",
    "        xor_sum=xor_sum^A[i]^(i+1)\n",
    "    return xor_sum^(len(A)+1)\n",
    "\n",
    "solution([2,3,1,5])\n",
    "\n",
    "#print('Iteration >> ', i, ' xor_sum >>>> ', xor_sum, end=' \\n\\n')\n",
    "#print('xor_sum^A[i] >>>> ', xor_sum^A[i], end=' \\n\\n')\n",
    "#print('xor_sum^A[i]^(i+1) >>> ', xor_sum^A[i]^(i+1), end=' \\n\\n')"
   ]
  },
  {
   "cell_type": "markdown",
   "metadata": {},
   "source": [
    "# Lesson 3: Time Complexity: TapeEquilibrium #9\n",
    "\n",
    "A non-empty array A consisting of N integers is given. Array A represents numbers on a tape.\n",
    "\n",
    "Any integer P, such that 0 < P < N, splits this tape into two non-empty parts: A[0], A[1], ..., A[P − 1] and A[P], A[P + 1], ..., A[N − 1].\n",
    "\n",
    "The difference between the two parts is the value of: |(A[0] + A[1] + ... + A[P − 1]) − (A[P] + A[P + 1] + ... + A[N − 1])|\n",
    "\n",
    "In other words, it is the absolute difference between the sum of the first part and the sum of the second part.\n",
    "\n",
    "For example, consider array A such that:\n",
    "\n",
    "  A[0] = 3\n",
    "  A[1] = 1\n",
    "  A[2] = 2\n",
    "  A[3] = 4\n",
    "  A[4] = 3\n",
    "We can split this tape in four places:\n",
    "\n",
    "P = 1, difference = |3 − 10| = 7 \n",
    "P = 2, difference = |4 − 9| = 5 \n",
    "P = 3, difference = |6 − 7| = 1 \n",
    "P = 4, difference = |10 − 3| = 7 \n",
    "Write a function:\n",
    "\n",
    "def solution(A)\n",
    "\n",
    "that, given a non-empty array A of N integers, returns the minimal difference that can be achieved.\n",
    "\n",
    "For example, given:\n",
    "\n",
    "  A[0] = 3\n",
    "  A[1] = 1\n",
    "  A[2] = 2\n",
    "  A[3] = 4\n",
    "  A[4] = 3\n",
    "the function should return 1, as explained above.\n",
    "\n",
    "Write an efficient algorithm for the following assumptions:\n",
    "\n",
    "N is an integer within the range [2..100,000];\n",
    "each element of array A is an integer within the range [−1,000..1,000]."
   ]
  },
  {
   "cell_type": "code",
   "execution_count": 36,
   "metadata": {},
   "outputs": [
    {
     "data": {
      "text/plain": [
       "1"
      ]
     },
     "execution_count": 36,
     "metadata": {},
     "output_type": "execute_result"
    }
   ],
   "source": [
    "# This solution did not score 100% \n",
    "\n",
    "# Mistake\n",
    "# 1. Creating additional space complexity with diff_arr where we require only 2 placeholders \n",
    "#    for head sum and tail sum\n",
    "\n",
    "# 2. Besides performance, It also failed in Correctness because it was unable to handle negative numbers\n",
    "#    For example, for the input [-1000, 1000] the solution returned a wrong answer (got 0 expected 2000).\n",
    "\n",
    "def solution(A):\n",
    "    diff_arr=[0]*len(A)\n",
    "    for i in range(1,len(A)+1):\n",
    "        diff_arr[i-1]=abs(sum(A[:i])-sum(A[i:]))\n",
    "    return min(diff_arr)\n",
    "\n",
    "solution([3,1,2,4,3])\n",
    "\n",
    "#print(diff_arr) \n",
    "#print('For i = ', i)\n",
    "#print(A[:i])\n",
    "#print('sum(A[:i]) >>>>> ',sum(A[:i]))\n",
    "#print(A[i:])\n",
    "#print('sum(A[i:]) >>> ',sum(A[i:]))\n",
    "#print('Difference in absolute sums >>>> ', abs(sum(A[:i])-sum(A[i:])),end= \" \\n____________________________ \\n\")\n",
    "#print(min(diff_arr))"
   ]
  },
  {
   "cell_type": "code",
   "execution_count": 37,
   "metadata": {},
   "outputs": [
    {
     "data": {
      "text/plain": [
       "1"
      ]
     },
     "execution_count": 37,
     "metadata": {},
     "output_type": "execute_result"
    }
   ],
   "source": [
    "# 100% solution \n",
    "def solution(A):\n",
    "    head=A[0]\n",
    "    tail=sum(A[1:])\n",
    "    min_diff=abs(head-tail)\n",
    "    for i in range(1,len(A)-1):\n",
    "        head+=A[i]\n",
    "        tail-=A[i]\n",
    "        if abs(head-tail)<min_diff:\n",
    "            min_diff=abs(head-tail)\n",
    "    return min_diff\n",
    "\n",
    "solution([3,1,2,4,3])"
   ]
  },
  {
   "cell_type": "markdown",
   "metadata": {},
   "source": [
    "# Lesson 4: Counting Elements: PermCheck #11\n",
    "https://codility.com/media/train/2-CountingElements.pdf\n",
    "_____________________________________________________________________________________________________\n",
    "\n",
    "Representing an array by means of Counters\n",
    "\n",
    "    from collections import Counter\n",
    "    A=[1,1,2,2,2,2,3,3,3,4,4,4,4,4,5,5,5,5,5,5]\n",
    "    cnt=Counter(A)\n",
    "    print(Counter) # Counter({1:2,2:3,3:4,4:5,5:6})\n",
    "    \n",
    "_____________________________________________________________________________________________________\n",
    "\n",
    "## PermCheck\n",
    "A non-empty array A consisting of N integers is given.\n",
    "\n",
    "A permutation is a sequence containing each element from 1 to N once, and only once.\n",
    "\n",
    "For example, array A such that:\n",
    "\n",
    "    A[0] = 4\n",
    "    A[1] = 1\n",
    "    A[2] = 3\n",
    "    A[3] = 2\n",
    "is a permutation, but array A such that:\n",
    "\n",
    "    A[0] = 4\n",
    "    A[1] = 1\n",
    "    A[2] = 3\n",
    "is not a permutation, because value 2 is missing.\n",
    "\n",
    "The goal is to check whether array A is a permutation.\n",
    "\n",
    "Write a function:\n",
    "\n",
    "def solution(A)\n",
    "\n",
    "that, given an array A, returns 1 if array A is a permutation and 0 if it is not.\n",
    "\n",
    "For example, given array A such that:\n",
    "\n",
    "    A[0] = 4\n",
    "    A[1] = 1\n",
    "    A[2] = 3\n",
    "    A[3] = 2\n",
    "the function should return 1.\n",
    "\n",
    "Given array A such that:\n",
    "\n",
    "    A[0] = 4\n",
    "    A[1] = 1\n",
    "    A[2] = 3\n",
    "the function should return 0.\n",
    "\n",
    "Write an efficient algorithm for the following assumptions:\n",
    "\n",
    "N is an integer within the range [1..100,000];\n",
    "each element of array A is an integer within the range [1..1,000,000,000]."
   ]
  },
  {
   "cell_type": "code",
   "execution_count": 75,
   "metadata": {},
   "outputs": [
    {
     "name": "stdout",
     "output_type": "stream",
     "text": [
      "1\n",
      "1\n",
      "0\n",
      "0\n"
     ]
    }
   ],
   "source": [
    "# 100% using XOR\n",
    "\n",
    "def solution(A):\n",
    "    A.sort()\n",
    "    #j=min(A)\n",
    "    xor_sum=0\n",
    "\n",
    "    #print(min(A))\n",
    "    for i in range(len(A)):\n",
    "        #print('i >>>> ',i,' j >>>> ',j, ' A[i] >>>> ', A[i],' j^A[i] >>>> ',j^A[i])\n",
    "        xor_sum=xor_sum^(i+1)^A[i]\n",
    "        #j+=1\n",
    "        if xor_sum!=0:\n",
    "            return 0\n",
    "    return 1\n",
    "\n",
    "print(solution([1]))\n",
    "print(solution([1,2,3,4,5]))\n",
    "print(solution([1,4,5,2,3,5]))\n",
    "print(solution([1,3,4]))"
   ]
  },
  {
   "cell_type": "code",
   "execution_count": 114,
   "metadata": {},
   "outputs": [
    {
     "data": {
      "text/plain": [
       "1"
      ]
     },
     "execution_count": 114,
     "metadata": {},
     "output_type": "execute_result"
    }
   ],
   "source": [
    "# 100% using counter\n",
    "\n",
    "def solution(A):\n",
    "    counter = [0]*len(A)\n",
    "    limit = len(A)\n",
    "    #print('out counter >>>> ',counter)\n",
    "\n",
    "    for element in A:\n",
    "        #print('Loop Start >>>> element >>>> ',element,'counter >>>> ',counter)\n",
    "        \n",
    "        if not 1 <= element <= limit:\n",
    "            #print ('TRUE --> not 1 <= element <= ',limit)\n",
    "            return 0\n",
    "        else:\n",
    "            if counter[element-1] != 0:\n",
    "                #print('Inside counter[element-1] >>>> ',counter[element-1])\n",
    "                return 0\n",
    "            else:\n",
    "                #print('Setting counter[',element-1,'] = 1')\n",
    "                counter[element-1] = 1\n",
    "        #print('Loop End >>>> element >>>> ',element,'counter >>>> ',counter, end='\\n_________________________________ \\n')\n",
    "\n",
    "    return 1\n",
    "\n",
    "solution([1,3,2,4,5])"
   ]
  },
  {
   "cell_type": "markdown",
   "metadata": {},
   "source": [
    "# Lesson 4: Counting Elements: FrogRiverOne #12\n",
    "\n",
    "A small frog wants to get to the other side of a river. The frog is initially located on one bank of the river (position 0) and wants to get to the opposite bank (position X+1). Leaves fall from a tree onto the surface of the river.\n",
    "\n",
    "You are given an array A consisting of N integers representing the falling leaves. A[K] represents the position where one leaf falls at time K, measured in seconds.\n",
    "\n",
    "The goal is to find the earliest time when the frog can jump to the other side of the river. The frog can cross only when leaves appear at every position across the river from 1 to X (that is, we want to find the earliest moment when all the positions from 1 to X are covered by leaves). You may assume that the speed of the current in the river is negligibly small, i.e. the leaves do not change their positions once they fall in the river.\n",
    "\n",
    "For example, you are given integer X = 5 and array A such that:\n",
    "\n",
    "  A[0] = 1\n",
    "  A[1] = 3\n",
    "  A[2] = 1\n",
    "  A[3] = 4\n",
    "  A[4] = 2\n",
    "  A[5] = 3\n",
    "  A[6] = 5\n",
    "  A[7] = 4\n",
    "In second 6, a leaf falls into position 5. This is the earliest time when leaves appear in every position across the river.\n",
    "\n",
    "Write a function:\n",
    "\n",
    "def solution(X, A)\n",
    "\n",
    "that, given a non-empty array A consisting of N integers and integer X, returns the earliest time when the frog can jump to the other side of the river.\n",
    "\n",
    "If the frog is never able to jump to the other side of the river, the function should return −1.\n",
    "\n",
    "For example, given X = 5 and array A such that:\n",
    "\n",
    "  A[0] = 1\n",
    "  A[1] = 3\n",
    "  A[2] = 1\n",
    "  A[3] = 4\n",
    "  A[4] = 2\n",
    "  A[5] = 3\n",
    "  A[6] = 5\n",
    "  A[7] = 4\n",
    "the function should return 6, as explained above.\n",
    "\n",
    "Write an efficient algorithm for the following assumptions:\n",
    "\n",
    "N and X are integers within the range [1..100,000];\n",
    "each element of array A is an integer within the range [1..X].\n"
   ]
  },
  {
   "cell_type": "code",
   "execution_count": 96,
   "metadata": {},
   "outputs": [
    {
     "data": {
      "text/plain": [
       "6"
      ]
     },
     "execution_count": 96,
     "metadata": {},
     "output_type": "execute_result"
    }
   ],
   "source": [
    "def solution(X, A):\n",
    "    covered_time = [-1]*X  # Record the time, each position is covered\n",
    "    #print(\"covered time >>>\", covered_time)\n",
    "    uncovered = X          # Record the number of uncovered position\n",
    "    #print(\"uncovered >>>>>>>>> \", uncovered)\n",
    "    for index in range(0,len(A)):\n",
    "        #print(\"_____________________________________________________\")\n",
    "        #print(\"index\", index,end=\" >>>>>>>>>> \\n\")\n",
    "        if covered_time[A[index]-1] != -1:\n",
    "            # This position is already covered\n",
    "            #print(\"IF ::: A[index]-1 >>>>>> \",A[index]-1)\n",
    "            #print(\"IF :::: covered_time[A[index]-1] >>>>>> \",covered_time[A[index]-1])\n",
    "            continue\n",
    "        else:\n",
    "            # This position is to be covered\n",
    "            covered_time[A[index]-1] = index\n",
    "            uncovered -= 1\n",
    "            #print(\"ELSE ::: A[index]-1 >>>>>> \",A[index]-1)\n",
    "            #print(\"ELSE ::: covered_time[A[index]-1] >>>>>>>>>>> \",covered_time[A[index]-1])\n",
    "            #print(\"ELSE :::: covered_time\", covered_time)\n",
    "            if uncovered == 0:\n",
    "                # All positions are covered\n",
    "                return index\n",
    "    # Finally, some positions are not covered\n",
    "    return -1\n",
    "\n",
    "solution(5,[1,3,1,4,2,3,5,4])"
   ]
  },
  {
   "cell_type": "markdown",
   "metadata": {},
   "source": [
    "# Lesson 4: Counting Elements: MaxCounters #13\n",
    "\n",
    "You are given N counters, initially set to 0, and you have two possible operations on them:\n",
    "\n",
    "increase(X) − counter X is increased by 1,\n",
    "max counter − all counters are set to the maximum value of any counter.\n",
    "A non-empty array A of M integers is given. This array represents consecutive operations:\n",
    "\n",
    "if A[K] = X, such that 1 ≤ X ≤ N, then operation K is increase(X),\n",
    "if A[K] = N + 1 then operation K is max counter.\n",
    "For example, given integer N = 5 and array A such that:\n",
    "\n",
    "    A[0] = 3\n",
    "    A[1] = 4\n",
    "    A[2] = 4\n",
    "    A[3] = 6\n",
    "    A[4] = 1\n",
    "    A[5] = 4\n",
    "    A[6] = 4\n",
    "the values of the counters after each consecutive operation will be:\n",
    "\n",
    "    (0, 0, 1, 0, 0)\n",
    "    (0, 0, 1, 1, 0)\n",
    "    (0, 0, 1, 2, 0)\n",
    "    (2, 2, 2, 2, 2)\n",
    "    (3, 2, 2, 2, 2)\n",
    "    (3, 2, 2, 3, 2)\n",
    "    (3, 2, 2, 4, 2)\n",
    "The goal is to calculate the value of every counter after all operations.\n",
    "\n",
    "Write a function:\n",
    "\n",
    "def solution(N, A)\n",
    "\n",
    "that, given an integer N and a non-empty array A consisting of M integers, returns a sequence of integers representing the values of the counters.\n",
    "\n",
    "Result array should be returned as an array of integers.\n",
    "\n",
    "For example, given:\n",
    "\n",
    "    A[0] = 3\n",
    "    A[1] = 4\n",
    "    A[2] = 4\n",
    "    A[3] = 6\n",
    "    A[4] = 1\n",
    "    A[5] = 4\n",
    "    A[6] = 4\n",
    "the function should return [3, 2, 2, 4, 2], as explained above.\n",
    "\n",
    "Write an efficient algorithm for the following assumptions:\n",
    "\n",
    "N and M are integers within the range [1..100,000];\n",
    "each element of array A is an integer within the range [1..N + 1].\n"
   ]
  },
  {
   "cell_type": "code",
   "execution_count": 108,
   "metadata": {},
   "outputs": [
    {
     "name": "stdout",
     "output_type": "stream",
     "text": [
      "IF ::::  A[i] ::::  3  >>>>  [0, 0, 1, 0, 0]\n",
      "IF ::::  A[i] ::::  4  >>>>  [0, 0, 1, 1, 0]\n",
      "IF ::::  A[i] ::::  4  >>>>  [0, 0, 1, 2, 0]\n",
      "ELSE :::  A[i] ::::  6  >>>>  [2, 2, 2, 2, 2]\n",
      "IF ::::  A[i] ::::  1  >>>>  [3, 2, 2, 2, 2]\n",
      "IF ::::  A[i] ::::  4  >>>>  [3, 2, 2, 3, 2]\n",
      "IF ::::  A[i] ::::  4  >>>>  [3, 2, 2, 4, 2]\n",
      "[3, 2, 2, 4, 2]\n"
     ]
    }
   ],
   "source": [
    "# Solution created by me \n",
    "# One wonderful thing is that last time around 10 days back, I wasn't even able to comprehend the problem\n",
    "# Today at least I was able to create a 100% accurate solution\n",
    "\n",
    "# Kudos to a thing called 'Persistence' :)\n",
    "# Solution Evaluation: Correctness: 100% Performance: 0% --- O(N*M)\n",
    "# Total Score: 44%\n",
    "\n",
    "def solution(N,A):\n",
    "    cnt=[0]*N\n",
    "    for i in range(len(A)):\n",
    "        #print(A[i])\n",
    "        if 1 <= A[i] <= N:\n",
    "            cnt[A[i]-1] += 1\n",
    "            #print('IF :::: ', 'A[i] :::: ', A[i],' >>>> ',cnt)\n",
    "        elif A[i] == N+1:\n",
    "            for j in range(len(cnt)):\n",
    "                #print(j)\n",
    "                cnt[j]=max(cnt)\n",
    "            #print('ELSE ::: ','A[i] :::: ', A[i],' >>>> ',cnt)\n",
    "    #print(cnt)\n",
    "    return cnt\n",
    "\n",
    "solution(5,[3,4,4,6,1,4,4])"
   ]
  },
  {
   "cell_type": "code",
   "execution_count": 109,
   "metadata": {},
   "outputs": [
    {
     "data": {
      "text/plain": [
       "[3, 2, 2, 4, 2]"
      ]
     },
     "execution_count": 109,
     "metadata": {},
     "output_type": "execute_result"
    }
   ],
   "source": [
    "# Solution at codesays -- https://codesays.com/?s=maxcounter\n",
    "\n",
    "# Solution Evaluation: Correctness: 100% Performance: 40% --- O(N*M)\n",
    "# Total Score: 66%\n",
    "# It has improved performance because above mentioned solution uses a nested for loop\n",
    "# Here he is using this >>>> result[:] = [max(result)]*N \n",
    "# --- saves a nested loop but must be iterative inside, that's why a performance problem\n",
    "\n",
    "def solution(N, A):\n",
    "    result = [0]*N\n",
    "    for command in A:\n",
    "        if 1 <= command <= N:\n",
    "            result[command-1] += 1\n",
    "        else:\n",
    "            result[:] = [max(result)]*N\n",
    "    return result\n",
    "\n",
    "solution(5,[3,4,4,6,1,4,4])"
   ]
  },
  {
   "cell_type": "code",
   "execution_count": 110,
   "metadata": {},
   "outputs": [],
   "source": [
    "# Best solution - 100% correctness & 100% performance ---- O(N + M)\n",
    "\n",
    "# We could use lazy-write to improve the performance. \n",
    "# When receiving the max_counter command, we record the current-max value, \n",
    "# but do not change the list content. Only when we are going to \n",
    "# return the list or increace a specific element, \n",
    "# we will apply the stored value to the corresponding element(s).\n",
    "\n",
    "\n",
    "def solution(N, A):\n",
    "    result = [0]*N    # The list to be returned\n",
    "    max_counter = 0   # The used value in previous max_counter command\n",
    "    current_max = 0   # The current maximum value of any counter\n",
    "    for command in A:\n",
    "        if 1 <= command <= N:\n",
    "            # increase(X) command\n",
    "            if max_counter > result[command-1]:\n",
    "                # lazy write\n",
    "                print (\"IN ::: if max_counter > result[command-1]\")\n",
    "                result[command-1] = max_counter\n",
    "            result[command-1] += 1\n",
    "            if current_max < result[command-1]:\n",
    "                current_max = result[command-1]\n",
    "        else:\n",
    "            # max_counter command\n",
    "            # just record the current maximum value for later write\n",
    "            max_counter = current_max\n",
    "    for index in range(0,N):\n",
    "        if result[index] < max_counter:\n",
    "            # This element has never been used/updated after previous\n",
    "            #     max_counter command\n",
    "            result[index] = max_counter\n",
    "    return result"
   ]
  },
  {
   "cell_type": "markdown",
   "metadata": {},
   "source": [
    "# Lesson 4: Counting Elements: MissingIntegers #15\n",
    "\n",
    "This is a demo task.\n",
    "\n",
    "Write a function:\n",
    "\n",
    "def solution(A)\n",
    "\n",
    "that, given an array A of N integers, returns the smallest positive integer (greater than 0) that does not occur in A.\n",
    "\n",
    "For example, given A = [1, 3, 6, 4, 1, 2], the function should return 5.\n",
    "\n",
    "Given A = [1, 2, 3], the function should return 4.\n",
    "\n",
    "Given A = [−1, −3], the function should return 1.\n",
    "\n",
    "Write an efficient algorithm for the following assumptions:\n",
    "\n",
    "N is an integer within the range [1..100,000];\n",
    "each element of array A is an integer within the range [−1,000,000..1,000,000]."
   ]
  },
  {
   "cell_type": "code",
   "execution_count": 136,
   "metadata": {},
   "outputs": [
    {
     "data": {
      "text/plain": [
       "4"
      ]
     },
     "execution_count": 136,
     "metadata": {},
     "output_type": "execute_result"
    }
   ],
   "source": [
    "# 100%\n",
    "\n",
    "def solution(A):\n",
    "    A.sort()\n",
    "    min = 1\n",
    "    for a in A:\n",
    "        if a > min:\n",
    "            return min\n",
    "        if a > 0:\n",
    "            min = a+1\n",
    "    \n",
    "    return min\n",
    "\n",
    "solution([1,2,3])"
   ]
  },
  {
   "cell_type": "markdown",
   "metadata": {},
   "source": [
    "# Lesson 5: Prefix Sums: PassingCars #17\n",
    "A non-empty array A consisting of N integers is given. The consecutive elements of array A represent consecutive cars on a road.\n",
    "\n",
    "Array A contains only 0s and/or 1s:\n",
    "\n",
    "0 represents a car traveling east,\n",
    "1 represents a car traveling west.\n",
    "The goal is to count passing cars. We say that a pair of cars (P, Q), where 0 ≤ P < Q < N, is passing when P is traveling to the east and Q is traveling to the west.\n",
    "\n",
    "For example, consider array A such that:\n",
    "\n",
    "  A[0] = 0\n",
    "  A[1] = 1\n",
    "  A[2] = 0\n",
    "  A[3] = 1\n",
    "  A[4] = 1\n",
    "We have five pairs of passing cars: (0, 1), (0, 3), (0, 4), (2, 3), (2, 4).\n",
    "\n",
    "Write a function:\n",
    "\n",
    "def solution(A)\n",
    "\n",
    "that, given a non-empty array A of N integers, returns the number of pairs of passing cars.\n",
    "\n",
    "The function should return −1 if the number of pairs of passing cars exceeds 1,000,000,000.\n",
    "\n",
    "For example, given:\n",
    "\n",
    "  A[0] = 0\n",
    "  A[1] = 1\n",
    "  A[2] = 0\n",
    "  A[3] = 1\n",
    "  A[4] = 1\n",
    "the function should return 5, as explained above.\n",
    "\n",
    "Write an efficient algorithm for the following assumptions:\n",
    "\n",
    "N is an integer within the range [1..100,000];\n",
    "each element of array A is an integer that can have one of the following values: 0, 1."
   ]
  },
  {
   "cell_type": "code",
   "execution_count": 1,
   "metadata": {},
   "outputs": [
    {
     "data": {
      "text/plain": [
       "5"
      ]
     },
     "execution_count": 1,
     "metadata": {},
     "output_type": "execute_result"
    }
   ],
   "source": [
    "# 100%\n",
    "\n",
    "def solution(A):\n",
    "    west=0\n",
    "    passing=0\n",
    "    for i in range(len(A)-1,-1,-1):\n",
    "        if A[i]==0:\n",
    "            passing += west\n",
    "            if passing>1000000000:\n",
    "                return -1\n",
    "        else:\n",
    "            west += 1\n",
    "    return passing\n",
    "\n",
    "solution([0,1,0,1,1])"
   ]
  },
  {
   "cell_type": "markdown",
   "metadata": {},
   "source": [
    "# Lesson 5: PrefixSums: GenomicRangeQuery #18\n",
    "\n",
    "A DNA sequence can be represented as a string consisting of the letters A, C, G and T, which correspond to the types of successive nucleotides in the sequence. Each nucleotide has an impact factor, which is an integer. Nucleotides of types A, C, G and T have impact factors of 1, 2, 3 and 4, respectively. You are going to answer several queries of the form: What is the minimal impact factor of nucleotides contained in a particular part of the given DNA sequence?\n",
    "\n",
    "The DNA sequence is given as a non-empty string S = S[0]S[1]...S[N-1] consisting of N characters. There are M queries, which are given in non-empty arrays P and Q, each consisting of M integers. The K-th query (0 ≤ K < M) requires you to find the minimal impact factor of nucleotides contained in the DNA sequence between positions P[K] and Q[K] (inclusive).\n",
    "\n",
    "For example, consider string S = CAGCCTA and arrays P, Q such that:\n",
    "\n",
    "    P[0] = 2    Q[0] = 4\n",
    "    P[1] = 5    Q[1] = 5\n",
    "    P[2] = 0    Q[2] = 6\n",
    "The answers to these M = 3 queries are as follows:\n",
    "\n",
    "The part of the DNA between positions 2 and 4 contains nucleotides G and C (twice), whose impact factors are 3 and 2 respectively, so the answer is 2.\n",
    "The part between positions 5 and 5 contains a single nucleotide T, whose impact factor is 4, so the answer is 4.\n",
    "The part between positions 0 and 6 (the whole string) contains all nucleotides, in particular nucleotide A whose impact factor is 1, so the answer is 1.\n",
    "Write a function:\n",
    "\n",
    "def solution(S, P, Q)\n",
    "\n",
    "that, given a non-empty string S consisting of N characters and two non-empty arrays P and Q consisting of M integers, returns an array consisting of M integers specifying the consecutive answers to all queries.\n",
    "\n",
    "Result array should be returned as an array of integers.\n",
    "\n",
    "For example, given the string S = CAGCCTA and arrays P, Q such that:\n",
    "\n",
    "    P[0] = 2    Q[0] = 4\n",
    "    P[1] = 5    Q[1] = 5\n",
    "    P[2] = 0    Q[2] = 6\n",
    "the function should return the values [2, 4, 1], as explained above.\n",
    "\n",
    "Write an efficient algorithm for the following assumptions:\n",
    "\n",
    "N is an integer within the range [1..100,000];\n",
    "M is an integer within the range [1..50,000];\n",
    "each element of arrays P, Q is an integer within the range [0..N − 1];\n",
    "P[K] ≤ Q[K], where 0 ≤ K < M;\n",
    "string S consists only of upper-case English letters A, C, G, T."
   ]
  },
  {
   "cell_type": "code",
   "execution_count": 1,
   "metadata": {},
   "outputs": [
    {
     "data": {
      "text/plain": [
       "[2, 4, 1]"
      ]
     },
     "execution_count": 1,
     "metadata": {},
     "output_type": "execute_result"
    }
   ],
   "source": [
    "# 62% - Correctness - 100% -- Performance - 0%\n",
    "\n",
    "def solution(S,P,Q):\n",
    "    \n",
    "    S=S.replace('A','1')\n",
    "    S=S.replace('C','2')\n",
    "    S=S.replace('G','3')\n",
    "    S=S.replace('T','4')\n",
    "    \n",
    "    if len(P) != len(Q):\n",
    "        raise Exception (\"Length of P & Q not equal\")\n",
    "        \n",
    "    li=[0]* len(P)\n",
    "    \n",
    "    for i in range(len(P)):\n",
    "       li[i]=int(min(S[P[i]:Q[i]+1]))\n",
    "    \n",
    "    return li\n",
    "\n",
    "solution('CAGCCTA',[2,5,0],[4,5,6])"
   ]
  },
  {
   "cell_type": "code",
   "execution_count": 11,
   "metadata": {},
   "outputs": [
    {
     "data": {
      "text/plain": [
       "[2, 4, 1]"
      ]
     },
     "execution_count": 11,
     "metadata": {},
     "output_type": "execute_result"
    }
   ],
   "source": [
    "# 100% correctness -- 100% performance\n",
    "\n",
    "def solution(S, P, Q):\n",
    "    cost_dict = {'A':1, 'C':2, 'G':3, 'T':4}\n",
    "\n",
    "    curr_counts = [0,0,0,0]\n",
    "    counts = [curr_counts[:]]\n",
    "    #print('Before loop counts >>> ', counts)\n",
    "\n",
    "    for s in S:\n",
    "        curr_counts[cost_dict[s]-1] += 1\n",
    "        counts.append(curr_counts[:])\n",
    "    \n",
    "    #print('After loop counts >>> ', counts)\n",
    "    \n",
    "    results = []\n",
    "    for i in range(len(Q)):\n",
    "        counts_q = counts[Q[i] + 1]\n",
    "        counts_p = counts[P[i]]\n",
    "        \n",
    "        #print('i >>>> ',i,'counts_q >>> ',counts_q)\n",
    "        #print('i >>>> ',i,'counts_p >>> ',counts_p)\n",
    "\n",
    "        if Q[i] == P[i]:\n",
    "            #print('IF ::: Q[i]==P[i] adding following to results >>> ',cost_dict[S[Q[i]]])\n",
    "            results.append(cost_dict[S[Q[i]]])\n",
    "        elif counts_q[0] > counts_p[0]:\n",
    "            #print ('ELIF 1 ::: counts_q[0] > counts_p[0] adding following to results >>> ',1)\n",
    "            results.append(1)\n",
    "        elif counts_q[1] > counts_p[1]:\n",
    "            #print ('ELIF 2 ::: counts_q[1] > counts_p[1] adding following to results >>> ',2)\n",
    "            results.append(2)\n",
    "        elif counts_q[2] > counts_p[2]:\n",
    "            #print ('ELIF 3 ::: counts_q[2] > counts_p[2] adding following to results >>> ',3)\n",
    "            results.append(3)\n",
    "        elif counts_q[3] > counts_p[3]:\n",
    "            #print ('ELIF 4 ::: counts_q[3] > counts_p[3] adding following to results >>> ',4)\n",
    "            results.append(4)\n",
    "\n",
    "    return results\n",
    "\n",
    "solution('CAGCCTA',[2,5,0],[4,5,6])"
   ]
  },
  {
   "cell_type": "markdown",
   "metadata": {},
   "source": [
    "# Lesson 5: Prefix Sums: MinAvgTwoSlice #19\n",
    "\n",
    "A non-empty array A consisting of N integers is given. A pair of integers (P, Q), such that 0 ≤ P < Q < N, is called a slice of array A (notice that the slice contains at least two elements). The average of a slice (P, Q) is the sum of A[P] + A[P + 1] + ... + A[Q] divided by the length of the slice. To be precise, the average equals (A[P] + A[P + 1] + ... + A[Q]) / (Q − P + 1).\n",
    "\n",
    "For example, array A such that:\n",
    "\n",
    "    A[0] = 4\n",
    "    A[1] = 2\n",
    "    A[2] = 2\n",
    "    A[3] = 5\n",
    "    A[4] = 1\n",
    "    A[5] = 5\n",
    "    A[6] = 8\n",
    "contains the following example slices:\n",
    "\n",
    "slice (1, 2), whose average is (2 + 2) / 2 = 2;\n",
    "slice (3, 4), whose average is (5 + 1) / 2 = 3;\n",
    "slice (1, 4), whose average is (2 + 2 + 5 + 1) / 4 = 2.5.\n",
    "The goal is to find the starting position of a slice whose average is minimal.\n",
    "\n",
    "Write a function:\n",
    "\n",
    "def Solution(A):\n",
    "\n",
    "that, given a non-empty array A consisting of N integers, returns the starting position of the slice with the minimal average. If there is more than one slice with a minimal average, you should return the smallest starting position of such a slice.\n",
    "\n",
    "For example, given array A such that:\n",
    "\n",
    "    A[0] = 4\n",
    "    A[1] = 2\n",
    "    A[2] = 2\n",
    "    A[3] = 5\n",
    "    A[4] = 1\n",
    "    A[5] = 5\n",
    "    A[6] = 8\n",
    "the function should return 1, as explained above.\n",
    "\n",
    "Write an efficient algorithm for the following assumptions:\n",
    "\n",
    "N is an integer within the range [2..100,000];\n",
    "each element of array A is an integer within the range [−10,000..10,000]."
   ]
  },
  {
   "cell_type": "code",
   "execution_count": 12,
   "metadata": {},
   "outputs": [
    {
     "data": {
      "text/plain": [
       "1"
      ]
     },
     "execution_count": 12,
     "metadata": {},
     "output_type": "execute_result"
    }
   ],
   "source": [
    "# 100%\n",
    "\n",
    "# https://github.com/daotranminh/playground/blob/master/src/codibility/MinAvgTwoSlice/proof.pdf\n",
    "# https://www.martinkysel.com/codility-minavgtwoslice-solution/\n",
    "\n",
    "def solution(A):\n",
    "    min_idx=0\n",
    "    min_value=10001\n",
    "    \n",
    "    for idx in range(0,len(A)-1):\n",
    "        if (A[idx] + A[idx+1])/2.0 < min_value:\n",
    "            min_idx = idx\n",
    "            min_value = (A[idx] + A[idx+1])/2.0\n",
    "        if idx < len(A)-2 and (A[idx] + A[idx+1] + A[idx+2])/3.0 < min_value:\n",
    "            min_idx = idx\n",
    "            min_value = (A[idx] + A[idx+1] + A[idx+2])/3.0\n",
    " \n",
    "    return min_idx\n",
    "\n",
    "solution([4,2,2,5,1,5,8])"
   ]
  },
  {
   "cell_type": "markdown",
   "metadata": {},
   "source": [
    "# Lesson 5: Prefix Sums: CountDiv #20\n",
    "\n",
    "Write a function:\n",
    "\n",
    "def solution(A, B, K)\n",
    "\n",
    "that, given three integers A, B and K, returns the number of integers within the range [A..B] that are divisible by K, i.e.:\n",
    "\n",
    "{ i : A ≤ i ≤ B, i mod K = 0 }\n",
    "\n",
    "For example, for A = 6, B = 11 and K = 2, your function should return 3, because there are three numbers divisible by 2 within the range [6..11], namely 6, 8 and 10.\n",
    "\n",
    "Write an efficient algorithm for the following assumptions:\n",
    "\n",
    "A and B are integers within the range [0..2,000,000,000];\n",
    "K is an integer within the range [1..2,000,000,000];\n",
    "A ≤ B."
   ]
  },
  {
   "cell_type": "code",
   "execution_count": 21,
   "metadata": {},
   "outputs": [
    {
     "name": "stdout",
     "output_type": "stream",
     "text": [
      "3\n",
      "4\n"
     ]
    }
   ],
   "source": [
    "def solution(A, B, K):\n",
    "    if A % K == 0:  return (B - A) // K + 1\n",
    "    else:           return (B - (A - A % K )) // K\n",
    "\n",
    "print(solution(6,11,2))\n",
    "print(solution(20,30,3))"
   ]
  },
  {
   "cell_type": "markdown",
   "metadata": {},
   "source": [
    "# Lesson 6: Sorting: Distinct elements of array #21\n",
    "https://codility.com/media/train/4-Sorting.pdf"
   ]
  },
  {
   "cell_type": "code",
   "execution_count": 25,
   "metadata": {},
   "outputs": [
    {
     "data": {
      "text/plain": [
       "7"
      ]
     },
     "execution_count": 25,
     "metadata": {},
     "output_type": "execute_result"
    }
   ],
   "source": [
    "def distinct(A):\n",
    "    n = len(A)\n",
    "    A.sort()\n",
    "    result = 1\n",
    "    for k in range(1, n):\n",
    "        if A[k] != A[k - 1]:\n",
    "            result += 1\n",
    "    return result\n",
    "\n",
    "distinct([1,2,2,3,1,3,4,2,4,5,5,2,6,6,7])"
   ]
  },
  {
   "cell_type": "code",
   "execution_count": 26,
   "metadata": {},
   "outputs": [
    {
     "data": {
      "text/plain": [
       "7"
      ]
     },
     "execution_count": 26,
     "metadata": {},
     "output_type": "execute_result"
    }
   ],
   "source": [
    "def distinct2(A):\n",
    "    return len(set(A))\n",
    "\n",
    "distinct2([1,2,2,3,1,3,4,2,4,5,5,2,6,6,7])"
   ]
  },
  {
   "cell_type": "markdown",
   "metadata": {},
   "source": [
    "# Lesson 6: Sorting: Distinct #22\n",
    "\n",
    "Write a function\n",
    "\n",
    "def solution(A)\n",
    "\n",
    "that, given an array A consisting of N integers, returns the number of distinct values in array A.\n",
    "\n",
    "For example, given array A consisting of six elements such that:\n",
    "\n",
    " A[0] = 2    A[1] = 1    A[2] = 1\n",
    " A[3] = 2    A[4] = 3    A[5] = 1\n",
    "the function should return 3, because there are 3 distinct values appearing in array A, namely 1, 2 and 3.\n",
    "\n",
    "Write an efficient algorithm for the following assumptions:\n",
    "\n",
    "N is an integer within the range [0..100,000];\n",
    "each element of array A is an integer within the range [−1,000,000..1,000,000]."
   ]
  },
  {
   "cell_type": "code",
   "execution_count": 28,
   "metadata": {},
   "outputs": [
    {
     "data": {
      "text/plain": [
       "3"
      ]
     },
     "execution_count": 28,
     "metadata": {},
     "output_type": "execute_result"
    }
   ],
   "source": [
    "# 100%\n",
    "\n",
    "def solution(A):\n",
    "    return len(set(A))\n",
    "\n",
    "solution([2,1,1,2,3,1])"
   ]
  },
  {
   "cell_type": "markdown",
   "metadata": {},
   "source": [
    "# Lesson 6: Sorting: MaxProductOfThree #23\n",
    "\n",
    "A non-empty array A consisting of N integers is given. The product of triplet (P, Q, R) equates to A[P] * A[Q] * A[R] (0 ≤ P < Q < R < N).\n",
    "\n",
    "For example, array A such that:\n",
    "\n",
    "  A[0] = -3\n",
    "  A[1] = 1\n",
    "  A[2] = 2\n",
    "  A[3] = -2\n",
    "  A[4] = 5\n",
    "  A[5] = 6\n",
    "contains the following example triplets:\n",
    "\n",
    "(0, 1, 2), product is −3 * 1 * 2 = −6\n",
    "(1, 2, 4), product is 1 * 2 * 5 = 10\n",
    "(2, 4, 5), product is 2 * 5 * 6 = 60\n",
    "Your goal is to find the maximal product of any triplet.\n",
    "\n",
    "Write a function:\n",
    "\n",
    "def solution(A)\n",
    "\n",
    "that, given a non-empty array A, returns the value of the maximal product of any triplet.\n",
    "\n",
    "For example, given array A such that:\n",
    "\n",
    "  A[0] = -3\n",
    "  A[1] = 1\n",
    "  A[2] = 2\n",
    "  A[3] = -2\n",
    "  A[4] = 5\n",
    "  A[5] = 6\n",
    "the function should return 60, as the product of triplet (2, 4, 5) is maximal.\n",
    "\n",
    "Write an efficient algorithm for the following assumptions:\n",
    "\n",
    "N is an integer within the range [3..100,000];\n",
    "each element of array A is an integer within the range [−1,000..1,000].\n",
    "\n"
   ]
  },
  {
   "cell_type": "code",
   "execution_count": 31,
   "metadata": {},
   "outputs": [],
   "source": [
    "# 100%/100%\n",
    "\n",
    "def solution(A):\n",
    "    if len(A) < 3:\n",
    "        raise Exception(\"Invalid input\")\n",
    "         \n",
    "    A.sort()\n",
    "     \n",
    "    return max(A[0] * A[1] * A[-1], A[-1] * A[-2] * A[-3])"
   ]
  },
  {
   "cell_type": "markdown",
   "metadata": {},
   "source": [
    "# Lesson 6: Sorting: Triangle #24\n",
    "\n",
    "\n",
    "An array A consisting of N integers is given. A triplet (P, Q, R) is triangular if 0 ≤ P < Q < R < N and:\n",
    "\n",
    "A[P] + A[Q] > A[R],\n",
    "A[Q] + A[R] > A[P],\n",
    "A[R] + A[P] > A[Q].\n",
    "For example, consider array A such that:\n",
    "\n",
    "  A[0] = 10    A[1] = 2    A[2] = 5\n",
    "  A[3] = 1     A[4] = 8    A[5] = 20\n",
    "Triplet (0, 2, 4) is triangular.\n",
    "\n",
    "Write a function:\n",
    "\n",
    "def solution(A)\n",
    "\n",
    "that, given an array A consisting of N integers, returns 1 if there exists a triangular triplet for this array and returns 0 otherwise.\n",
    "\n",
    "For example, given array A such that:\n",
    "\n",
    "  A[0] = 10    A[1] = 2    A[2] = 5\n",
    "  A[3] = 1     A[4] = 8    A[5] = 20\n",
    "the function should return 1, as explained above. Given array A such that:\n",
    "\n",
    "  A[0] = 10    A[1] = 50    A[2] = 5\n",
    "  A[3] = 1\n",
    "the function should return 0.\n",
    "\n",
    "Write an efficient algorithm for the following assumptions:\n",
    "\n",
    "N is an integer within the range [0..100,000];\n",
    "each element of array A is an integer within the range [−2,147,483,648..2,147,483,647]."
   ]
  },
  {
   "cell_type": "code",
   "execution_count": 36,
   "metadata": {},
   "outputs": [
    {
     "name": "stdout",
     "output_type": "stream",
     "text": [
      "1\n",
      "0\n"
     ]
    }
   ],
   "source": [
    "# 100% / 100%\n",
    "\n",
    "def solution(A):\n",
    "    if len(A) < 3:\n",
    "        return 0\n",
    " \n",
    "    A.sort()\n",
    "     \n",
    "    for i in range(len(A)-2):\n",
    "        if A[i] + A[i+1] > A[i+2]:\n",
    "            return 1\n",
    "             \n",
    "    return 0\n",
    "\n",
    "print(solution([10,20,5,1,8,20]))\n",
    "print(solution([10,20,5,1]))"
   ]
  },
  {
   "cell_type": "markdown",
   "metadata": {},
   "source": [
    "# Lesson 6: Sorting: NumberOfDiscIntersections #25\n",
    "\n",
    "We draw N discs on a plane. The discs are numbered from 0 to N − 1. An array A of N non-negative integers, specifying the radiuses of the discs, is given. The J-th disc is drawn with its center at (J, 0) and radius A[J].\n",
    "\n",
    "We say that the J-th disc and K-th disc intersect if J ≠ K and the J-th and K-th discs have at least one common point (assuming that the discs contain their borders).\n",
    "\n",
    "The figure below shows discs drawn for N = 6 and A as follows:\n",
    "\n",
    "  A[0] = 1\n",
    "  A[1] = 5\n",
    "  A[2] = 2\n",
    "  A[3] = 1\n",
    "  A[4] = 4\n",
    "  A[5] = 0\n",
    "\n",
    "\n",
    "![Disc](./disc.png)\n",
    "\n",
    "There are eleven (unordered) pairs of discs that intersect, namely:\n",
    "\n",
    "    - discs 1 and 4 intersect, and both intersect with all the other discs;\n",
    "    - disc 2 also intersects with discs 0 and 3.\n",
    "Write a function:\n",
    "\n",
    "def solution(A)\n",
    "\n",
    "that, given an array A describing N discs as explained above, returns the number of (unordered) pairs of intersecting discs. The function should return −1 if the number of intersecting pairs exceeds 10,000,000.\n",
    "\n",
    "Given array A shown above, the function should return 11, as explained above.\n",
    "\n",
    "Write an efficient algorithm for the following assumptions:\n",
    "\n",
    "N is an integer within the range [0..100,000];\n",
    "each element of array A is an integer within the range [0..2,147,483,647]."
   ]
  },
  {
   "cell_type": "code",
   "execution_count": null,
   "metadata": {},
   "outputs": [],
   "source": []
  },
  {
   "cell_type": "markdown",
   "metadata": {},
   "source": [
    "# Lesson 7: Stacks and Queues #26\n",
    "\n",
    "https://codility.com/media/train/5-Stacks.pdf"
   ]
  },
  {
   "cell_type": "code",
   "execution_count": 43,
   "metadata": {},
   "outputs": [],
   "source": [
    "# Stack Implementation\n",
    "N=10\n",
    "stk=[0]*N\n",
    "size=0\n",
    "    \n",
    "def push(x):\n",
    "    global size\n",
    "    stk[size]=x\n",
    "    size+=1\n",
    "def pop():\n",
    "    global size\n",
    "    size -= 1\n",
    "    return stk[size]"
   ]
  },
  {
   "cell_type": "code",
   "execution_count": 52,
   "metadata": {},
   "outputs": [],
   "source": [
    "# Queue Implementation\n",
    "N=10\n",
    "queue=[0]*N\n",
    "head,tail=0,0\n",
    "\n",
    "def push(x):\n",
    "    global tail\n",
    "    tail=(tail+1)%N\n",
    "    queue[tail]=x\n",
    "\n",
    "def pop():\n",
    "    global head\n",
    "    head=(head+1)%N\n",
    "    return queue[head]\n",
    "\n",
    "def size():\n",
    "    return (head-tail+N)%N\n",
    "\n",
    "def empty():\n",
    "    return head==tail"
   ]
  },
  {
   "cell_type": "markdown",
   "metadata": {},
   "source": [
    "# Lesson 7: Stacks and Queues: GroceryStore #27\n",
    "\n",
    "Problem: You are given a zero-indexed array A consisting of n integers: a0, a1, . . . , an−1.\n",
    "\n",
    "Array A represents a scenario in a grocery store, and contains only 0s and/or 1s:\n",
    "\n",
    "- 0 represents the action of a new person joining the line in the grocery store,\n",
    "- 1 represents the action of the person at the front of the queue being served and leaving the line.\n",
    "\n",
    "The goal is to count the minimum number of people who should have been in the line before the above scenario, so that the scenario is possible (it is not possible to serve a person if theline is empty)."
   ]
  },
  {
   "cell_type": "code",
   "execution_count": 57,
   "metadata": {},
   "outputs": [],
   "source": [
    "def grocery_store(A):\n",
    "    n=len(A)\n",
    "    size, result=0,0\n",
    "    for i in range(n):\n",
    "        if A[i]==0:\n",
    "            size+=1\n",
    "        else:\n",
    "            size-=1\n",
    "            result=max(result,-size)\n",
    "    return result"
   ]
  },
  {
   "cell_type": "code",
   "execution_count": 58,
   "metadata": {},
   "outputs": [
    {
     "data": {
      "text/plain": [
       "3"
      ]
     },
     "execution_count": 58,
     "metadata": {},
     "output_type": "execute_result"
    }
   ],
   "source": [
    "grocery_store([1,0,1,0,1,1,1])"
   ]
  },
  {
   "cell_type": "markdown",
   "metadata": {},
   "source": [
    "# Lesson 7: Stacks and Queues: Fish\n",
    "\n",
    "You are given two non-empty arrays A and B consisting of N integers. Arrays A and B represent N voracious fish in a river, ordered downstream along the flow of the river.\n",
    "\n",
    "The fish are numbered from 0 to N − 1. If P and Q are two fish and P < Q, then fish P is initially upstream of fish Q. Initially, each fish has a unique position.\n",
    "\n",
    "Fish number P is represented by A[P] and B[P]. Array A contains the sizes of the fish. All its elements are unique. Array B contains the directions of the fish. It contains only 0s and/or 1s, where:\n",
    "\n",
    "0 represents a fish flowing upstream,\n",
    "1 represents a fish flowing downstream.\n",
    "If two fish move in opposite directions and there are no other (living) fish between them, they will eventually meet each other. Then only one fish can stay alive − the larger fish eats the smaller one. More precisely, we say that two fish P and Q meet each other when P < Q, B[P] = 1 and B[Q] = 0, and there are no living fish between them. After they meet:\n",
    "\n",
    "If A[P] > A[Q] then P eats Q, and P will still be flowing downstream,\n",
    "If A[Q] > A[P] then Q eats P, and Q will still be flowing upstream.\n",
    "We assume that all the fish are flowing at the same speed. That is, fish moving in the same direction never meet. The goal is to calculate the number of fish that will stay alive.\n",
    "\n",
    "For example, consider arrays A and B such that:\n",
    "\n",
    "  A[0] = 4    B[0] = 0\n",
    "  A[1] = 3    B[1] = 1\n",
    "  A[2] = 2    B[2] = 0\n",
    "  A[3] = 1    B[3] = 0\n",
    "  A[4] = 5    B[4] = 0\n",
    "Initially all the fish are alive and all except fish number 1 are moving upstream. Fish number 1 meets fish number 2 and eats it, then it meets fish number 3 and eats it too. Finally, it meets fish number 4 and is eaten by it. The remaining two fish, number 0 and 4, never meet and therefore stay alive.\n",
    "\n",
    "Write a function:\n",
    "\n",
    "def solution(A, B)\n",
    "\n",
    "that, given two non-empty arrays A and B consisting of N integers, returns the number of fish that will stay alive.\n",
    "\n",
    "For example, given the arrays shown above, the function should return 2, as explained above.\n",
    "\n",
    "Write an efficient algorithm for the following assumptions:\n",
    "\n",
    "N is an integer within the range [1..100,000];\n",
    "each element of array A is an integer within the range [0..1,000,000,000];\n",
    "each element of array B is an integer that can have one of the following values: 0, 1;\n",
    "the elements of A are all distinct.\n"
   ]
  },
  {
   "cell_type": "code",
   "execution_count": 2,
   "metadata": {},
   "outputs": [
    {
     "data": {
      "text/plain": [
       "3"
      ]
     },
     "execution_count": 2,
     "metadata": {},
     "output_type": "execute_result"
    }
   ],
   "source": [
    "s=[4,3]\n",
    "s[-1]"
   ]
  },
  {
   "cell_type": "code",
   "execution_count": 1,
   "metadata": {},
   "outputs": [
    {
     "data": {
      "text/plain": [
       "2"
      ]
     },
     "execution_count": 1,
     "metadata": {},
     "output_type": "execute_result"
    }
   ],
   "source": [
    "def solution(A, B):\n",
    "    survivals = 0\n",
    "    stack = []\n",
    "     \n",
    "    for idx in range(len(A)):\n",
    "        if B[idx] == 0:\n",
    "            while len(stack) != 0:\n",
    "                if stack[-1] > A[idx]:\n",
    "                    break\n",
    "                else:\n",
    "                    stack.pop()\n",
    "                         \n",
    "            else:\n",
    "                survivals += 1\n",
    "        else:\n",
    "            stack.append(A[idx])\n",
    "             \n",
    "    survivals += len(stack)\n",
    "    return survivals\n",
    "\n",
    "solution([4,3,2,1,5],[0,1,0,0,0,0])"
   ]
  },
  {
   "cell_type": "markdown",
   "metadata": {},
   "source": [
    "# Lesson 7: Stacks and Queues: Brackets\n",
    "\n",
    "A string S consisting of N characters is considered to be properly nested if any of the following conditions is true:\n",
    "\n",
    "S is empty;\n",
    "S has the form \"(U)\" or \"[U]\" or \"{U}\" where U is a properly nested string;\n",
    "S has the form \"VW\" where V and W are properly nested strings.\n",
    "For example, the string \"{[()()]}\" is properly nested but \"([)()]\" is not.\n",
    "\n",
    "Write a function:\n",
    "\n",
    "def solution(S)\n",
    "\n",
    "that, given a string S consisting of N characters, returns 1 if S is properly nested and 0 otherwise.\n",
    "\n",
    "For example, given S = \"{[()()]}\", the function should return 1 and given S = \"([)()]\", the function should return 0, as explained above.\n",
    "\n",
    "Write an efficient algorithm for the following assumptions:\n",
    "\n",
    "N is an integer within the range [0..200,000];\n",
    "string S consists only of the following characters: \"(\", \"{\", \"[\", \"]\", \"}\" and/or \")\"."
   ]
  },
  {
   "cell_type": "code",
   "execution_count": 9,
   "metadata": {},
   "outputs": [
    {
     "name": "stdout",
     "output_type": "stream",
     "text": [
      "{\n",
      "(\n",
      "[\n",
      "]\n",
      ")\n",
      "}\n"
     ]
    }
   ],
   "source": [
    "def solution(S):\n",
    "    \n",
    "    if len(S)%2!=0:\n",
    "        return 0\n",
    "    \n",
    "    if S=='' or S=='[]' or S=='{}' or S=='()':\n",
    "        return 1\n",
    "    \n",
    "    stack=[]\n",
    "    for s in S:\n",
    "        if s='(' or s='{' or s='[':\n",
    "            stack.append(s)\n",
    "        else:\n",
    "            if len(stack)==0:\n",
    "                return 0\n",
    "            last=stack.pop()\n",
    "            if not isValidPair(last,s):\n",
    "                return 0\n",
    "    if len(stack)!=0:\n",
    "        return 0\n",
    "    \n",
    "    return 1\n",
    "\n",
    "def isValidPair(left,right):\n",
    "    if left=='(' and right==')':\n",
    "        return True\n",
    "    if left=='{' and right=='}':\n",
    "        return True\n",
    "    if left=='[' and right==']':\n",
    "        return True\n",
    "    return False\n",
    "    \n",
    "        \n",
    "        \n",
    "        \n",
    "solution('{([])}')"
   ]
  },
  {
   "cell_type": "code",
   "execution_count": null,
   "metadata": {},
   "outputs": [],
   "source": []
  }
 ],
 "metadata": {
  "kernelspec": {
   "display_name": "Python 3",
   "language": "python",
   "name": "python3"
  },
  "language_info": {
   "codemirror_mode": {
    "name": "ipython",
    "version": 3
   },
   "file_extension": ".py",
   "mimetype": "text/x-python",
   "name": "python",
   "nbconvert_exporter": "python",
   "pygments_lexer": "ipython3",
   "version": "3.6.0"
  }
 },
 "nbformat": 4,
 "nbformat_minor": 2
}

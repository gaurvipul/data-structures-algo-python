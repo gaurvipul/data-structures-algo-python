{
 "cells": [
  {
   "cell_type": "markdown",
   "metadata": {},
   "source": [
    "# Sieve of Sundaram - To find prime numbers given an index n\n",
    "# Print all primes smaller than n\n",
    "\n",
    "Algo\n",
    "\n",
    "1. Sieve of Sundaram gives all prime numbers smaller than 2x+2 given an index x, so reduce the x to (x-2)/2\n",
    "    So let's give a name to the variable n_new = (n-2)/2\n",
    "    \n",
    "2. Next step, is to create an array \"marked\" which will have length = n_new and initialize it to false\n",
    "    This array is used to separate the numbers of the form i+j+2j from others \n",
    "    \n",
    "3. Mark all the numbers of the form i+j+2ij as true\n",
    "\n",
    "4. Loop for i=1 to n_new\n",
    "    a) j=i\n",
    "    b) if n>2 print 2 as first prime number\n",
    "    \n",
    "5. Remaining primes are of the form 2i+1 where i is the index of marked==false, so print 2i+1 for all i such that marked[i] is false"
   ]
  },
  {
   "cell_type": "code",
   "execution_count": 26,
   "metadata": {},
   "outputs": [],
   "source": [
    "def sieve_of_sundaram(n):\n",
    "    n_new=int((n-2)/2)\n",
    "    marked=[0]*(n_new+1)\n",
    "    prime=set()\n",
    "    \n",
    "    for i in range(1,n_new+1):\n",
    "        j=i\n",
    "        while((i+j+2*i*j)<=n_new):\n",
    "            marked[i+j+2*i*j]=1\n",
    "        j+=1\n",
    "    \n",
    "    if n>2:\n",
    "        #print('2',end= ' ')\n",
    "        prime.add(2)\n",
    "        \n",
    "    for i in range(1,n_new+1):\n",
    "        if marked[i]==0:\n",
    "            prime.add(2*i+1)\n",
    "            #print(2*i+1, end=' ')\n",
    "    return prime"
   ]
  },
  {
   "cell_type": "code",
   "execution_count": 30,
   "metadata": {},
   "outputs": [
    {
     "ename": "KeyboardInterrupt",
     "evalue": "",
     "output_type": "error",
     "traceback": [
      "\u001b[0;31m---------------------------------------------------------------------------\u001b[0m",
      "\u001b[0;31mKeyboardInterrupt\u001b[0m                         Traceback (most recent call last)",
      "\u001b[0;32m<ipython-input-30-538fc39dfc3d>\u001b[0m in \u001b[0;36m<module>\u001b[0;34m\u001b[0m\n\u001b[0;32m----> 1\u001b[0;31m \u001b[0mprime\u001b[0m\u001b[0;34m=\u001b[0m\u001b[0msieve_of_sundaram\u001b[0m\u001b[0;34m(\u001b[0m\u001b[0;36m10\u001b[0m\u001b[0;34m)\u001b[0m\u001b[0;34m\u001b[0m\u001b[0m\n\u001b[0m",
      "\u001b[0;32m<ipython-input-26-1dc1a7a65edb>\u001b[0m in \u001b[0;36msieve_of_sundaram\u001b[0;34m(n)\u001b[0m\n\u001b[1;32m      7\u001b[0m         \u001b[0mj\u001b[0m\u001b[0;34m=\u001b[0m\u001b[0mi\u001b[0m\u001b[0;34m\u001b[0m\u001b[0m\n\u001b[1;32m      8\u001b[0m         \u001b[0;32mwhile\u001b[0m\u001b[0;34m(\u001b[0m\u001b[0;34m(\u001b[0m\u001b[0mi\u001b[0m\u001b[0;34m+\u001b[0m\u001b[0mj\u001b[0m\u001b[0;34m+\u001b[0m\u001b[0;36m2\u001b[0m\u001b[0;34m*\u001b[0m\u001b[0mi\u001b[0m\u001b[0;34m*\u001b[0m\u001b[0mj\u001b[0m\u001b[0;34m)\u001b[0m\u001b[0;34m<=\u001b[0m\u001b[0mn_new\u001b[0m\u001b[0;34m)\u001b[0m\u001b[0;34m:\u001b[0m\u001b[0;34m\u001b[0m\u001b[0m\n\u001b[0;32m----> 9\u001b[0;31m             \u001b[0mmarked\u001b[0m\u001b[0;34m[\u001b[0m\u001b[0mi\u001b[0m\u001b[0;34m+\u001b[0m\u001b[0mj\u001b[0m\u001b[0;34m+\u001b[0m\u001b[0;36m2\u001b[0m\u001b[0;34m*\u001b[0m\u001b[0mi\u001b[0m\u001b[0;34m*\u001b[0m\u001b[0mj\u001b[0m\u001b[0;34m]\u001b[0m\u001b[0;34m=\u001b[0m\u001b[0;36m1\u001b[0m\u001b[0;34m\u001b[0m\u001b[0m\n\u001b[0m\u001b[1;32m     10\u001b[0m         \u001b[0mj\u001b[0m\u001b[0;34m+=\u001b[0m\u001b[0;36m1\u001b[0m\u001b[0;34m\u001b[0m\u001b[0m\n\u001b[1;32m     11\u001b[0m \u001b[0;34m\u001b[0m\u001b[0m\n",
      "\u001b[0;31mKeyboardInterrupt\u001b[0m: "
     ]
    }
   ],
   "source": [
    "prime=sieve_of_sundaram(10)"
   ]
  },
  {
   "cell_type": "code",
   "execution_count": null,
   "metadata": {},
   "outputs": [],
   "source": [
    "prime"
   ]
  },
  {
   "cell_type": "markdown",
   "metadata": {},
   "source": [
    "# Sieve of Eratosthenes - To find prime numbers given an index n\n",
    "\n",
    "Algo\n",
    "1. Create a consecutive list of integers from 2 to n\n",
    "\n",
    "2. Let p=2, first prime number\n",
    "\n",
    "3. Starting from p^2, count up in increments of p and mark each of these numbers greater than or equal to p^2 itself in the list. These numbers will be p(p+1), p(p+2), p(p+3)...\n",
    "\n",
    "4. Find the first number greater than p in the list that is not marked. If there was no such number stop, otherwise let p now equal this number and repeat from step2."
   ]
  },
  {
   "cell_type": "code",
   "execution_count": 36,
   "metadata": {},
   "outputs": [
    {
     "name": "stdout",
     "output_type": "stream",
     "text": [
      "Following are the prime numbers smaller than or equal to  30 : \n",
      "2\n",
      "3\n",
      "5\n",
      "7\n",
      "11\n",
      "13\n",
      "17\n",
      "19\n",
      "23\n",
      "29\n",
      "31\n",
      "37\n",
      "41\n",
      "43\n",
      "47\n",
      "53\n",
      "59\n",
      "61\n",
      "67\n",
      "71\n",
      "73\n",
      "79\n",
      "83\n",
      "89\n",
      "97\n",
      "101\n",
      "103\n",
      "107\n",
      "109\n",
      "113\n",
      "127\n",
      "131\n",
      "137\n",
      "139\n",
      "149\n",
      "151\n",
      "157\n",
      "163\n",
      "167\n",
      "173\n",
      "179\n",
      "181\n",
      "191\n",
      "193\n",
      "197\n",
      "199\n"
     ]
    }
   ],
   "source": [
    "def sieve_of_eratosthenes(n):\n",
    "    prime=[True for i in range(n+1)]\n",
    "    prime[0]=prime[1]=False\n",
    "    p=2\n",
    "    \n",
    "    while (p*p<=n):\n",
    "        if (prime[p]==True):\n",
    "            for i in range(p*p,n+1,p):\n",
    "                prime[i]=False\n",
    "        p+=1\n",
    "    \n",
    "    for p in range(2,n):\n",
    "        if prime[p]:\n",
    "            print (p)\n",
    "\n",
    "if __name__=='__main__':\n",
    "    n=30\n",
    "    print(\"Following are the prime numbers smaller than or equal to \", n, end=\" : \\n\")\n",
    "    sieve_of_eratosthenes(200)"
   ]
  },
  {
   "cell_type": "code",
   "execution_count": 38,
   "metadata": {},
   "outputs": [
    {
     "data": {
      "text/plain": [
       "1"
      ]
     },
     "execution_count": 38,
     "metadata": {},
     "output_type": "execute_result"
    }
   ],
   "source": [
    "7%3"
   ]
  },
  {
   "cell_type": "code",
   "execution_count": null,
   "metadata": {},
   "outputs": [],
   "source": []
  }
 ],
 "metadata": {
  "kernelspec": {
   "display_name": "Python 3",
   "language": "python",
   "name": "python3"
  },
  "language_info": {
   "codemirror_mode": {
    "name": "ipython",
    "version": 3
   },
   "file_extension": ".py",
   "mimetype": "text/x-python",
   "name": "python",
   "nbconvert_exporter": "python",
   "pygments_lexer": "ipython3",
   "version": "3.6.0"
  }
 },
 "nbformat": 4,
 "nbformat_minor": 2
}

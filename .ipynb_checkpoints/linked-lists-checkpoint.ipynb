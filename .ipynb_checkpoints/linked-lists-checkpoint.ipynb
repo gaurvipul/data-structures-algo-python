{
 "cells": [
  {
   "cell_type": "code",
   "execution_count": 2,
   "metadata": {},
   "outputs": [
    {
     "name": "stdout",
     "output_type": "stream",
     "text": [
      "Solving environment: / ^C\n",
      "failed\n",
      "\n",
      "CondaError: KeyboardInterrupt\n",
      "\n"
     ]
    }
   ],
   "source": [
    "class Element(object):\n",
    "    def __init__(self, value):\n",
    "        self.value=value\n",
    "        self.next=None\n",
    "\n",
    "class LinkedList(object):\n",
    "    def __init__(self,head=None):\n",
    "        self.head=head\n",
    "        \n",
    "    def append(self,new_element):\n",
    "        '''appending an element to end of linked list'''\n",
    "        current=self.head #creating a variable to reprensent current element, setting it equal to head\n",
    "        if self.head: # if head exists, then looping to end of the list and then adding the new_element\n",
    "            while current.next:\n",
    "                current=current.next\n",
    "            current.next=new_element\n",
    "        else: # if head doesn't exist, then setting head to new_element\n",
    "            self.head=new_element\n",
    "    \n",
    "    def get_position(self,position):\n",
    "        '''getting element from a particular position, assuming first position equal to 1\n",
    "           Return \"None\" if position is not in the list.'''\n",
    "        pos_now=1 #setting up a counter variable and initializing its value to 1\n",
    "        \n",
    "        while current and pos_now<=position:\n",
    "            if pos_now==position:\n",
    "                return current\n",
    "            current=current.next\n",
    "            pos_now += 1\n",
    "        \n",
    "        return None"
   ]
  }
 ],
 "metadata": {
  "kernelspec": {
   "display_name": "Python [conda env:numpy-course]",
   "language": "python",
   "name": "conda-env-numpy-course-py"
  },
  "language_info": {
   "codemirror_mode": {
    "name": "ipython",
    "version": 3
   },
   "file_extension": ".py",
   "mimetype": "text/x-python",
   "name": "python",
   "nbconvert_exporter": "python",
   "pygments_lexer": "ipython3",
   "version": "3.5.6"
  }
 },
 "nbformat": 4,
 "nbformat_minor": 2
}

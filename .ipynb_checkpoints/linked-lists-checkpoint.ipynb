{
 "cells": [
  {
   "cell_type": "code",
   "execution_count": 5,
   "metadata": {},
   "outputs": [
    {
     "ename": "SyntaxError",
     "evalue": "invalid syntax (<ipython-input-5-37be3ae73fee>, line 38)",
     "output_type": "error",
     "traceback": [
      "\u001b[0;36m  File \u001b[0;32m\"<ipython-input-5-37be3ae73fee>\"\u001b[0;36m, line \u001b[0;32m38\u001b[0m\n\u001b[0;31m    def insert(self,new_element,position,:\u001b[0m\n\u001b[0m                                         ^\u001b[0m\n\u001b[0;31mSyntaxError\u001b[0m\u001b[0;31m:\u001b[0m invalid syntax\n"
     ]
    }
   ],
   "source": [
    "class Element(object):\n",
    "    def __init__(self, value):\n",
    "        self.value=value\n",
    "        self.next=None\n",
    "\n",
    "class LinkedList(object):\n",
    "    def __init__(self,head=None):\n",
    "        self.head=head\n",
    "        \n",
    "    def append(self,new_element):\n",
    "        '''appending an element to end of linked list'''\n",
    "        current=self.head #creating a variable to reprensent current element, setting it equal to head\n",
    "        if self.head: # if head exists, then looping to end of the list and then adding the new_element\n",
    "            while current.next:\n",
    "                current=current.next\n",
    "            current.next=new_element\n",
    "        else: # if head doesn't exist, then setting head to new_element\n",
    "            self.head=new_element\n",
    "    \n",
    "    def get_position(self,position):\n",
    "        '''getting element from a particular position, assuming first position equal to 1\n",
    "           Return \"None\" if position is not in the list.'''\n",
    "        pos_now=1 #setting up a counter variable and initializing its value to 1\n",
    "        \n",
    "        current = self.head # setting current to point to head\n",
    "        \n",
    "        if position<1:\n",
    "            return None\n",
    "        \n",
    "        while current and pos_now<=position: # iterating from head till counter equals position\n",
    "            if pos_now==position:\n",
    "                return current\n",
    "            current=current.next\n",
    "            pos_now += 1\n",
    "        \n",
    "        return None # returning None in case position is not there\n",
    "    \n",
    "    def insert(self,new_element,position):\n",
    "        '''Inserting new element in a linked list, assuming first position is 1 \n",
    "           Inserting at position 9 would mean adding between 8 and 9 elements'''\n",
    "        current = self.head\n",
    "        pos_now = 1\n",
    "        if position>1:\n",
    "            while current and pos_now<position:\n",
    "                if pos_now==position-1:\n",
    "                    new_element.next = current.next\n",
    "                    current.next = new_element\n",
    "                pos_now += 1\n",
    "                current=current.next\n",
    "        elif position==1:\n",
    "            new_element.next = self.head\n",
    "            self.head = new_element\n",
    "\n",
    "    def delete(self,value):\n",
    "        '''Delete the first node of given value'''\n",
    "        current=self.head\n",
    "        previous=None\n",
    "        \n",
    "        while current.value != value and current.next:\n",
    "            previous=current\n",
    "            current=current.next\n",
    "        if current.value==value:\n",
    "            if previous:\n",
    "                previous.next=current.next\n",
    "            else:\n",
    "                self.head=current.next\n",
    "        "
   ]
  },
  {
   "cell_type": "code",
   "execution_count": 6,
   "metadata": {},
   "outputs": [],
   "source": [
    "# testing the different methods of linked-list class\n",
    "\n",
    "# Setting up Elements\n",
    "e1=Element(1)\n",
    "e2=Element(2)\n",
    "e3=Element(3)\n",
    "e4=Element(4)\n",
    "e5=Element(5)\n",
    "e6=Element(6)\n",
    "e7=Element(7)\n",
    "e8=Element(8)\n",
    "e9=Element(9)\n",
    "e10=Element(10)\n",
    "\n",
    "# Setting up linked list\n",
    "l1=LinkedList(e1)\n",
    "l1.append(e2)\n",
    "l1.append(e3)\n",
    "l1.append(e4)\n",
    "l1.append(e5)\n",
    "l1.append(e6)\n",
    "l1.append(e7)\n",
    "l1.append(e8)\n",
    "l1.append(e9)\n",
    "l1.append(e10)"
   ]
  },
  {
   "cell_type": "code",
   "execution_count": 7,
   "metadata": {},
   "outputs": [
    {
     "name": "stdout",
     "output_type": "stream",
     "text": [
      "9\n",
      "9\n"
     ]
    }
   ],
   "source": [
    "# Testing get_position method\n",
    "\n",
    "# getting element at position 9\n",
    "print (l1.head.next.next.next.next.next.next.next.next.value) # Should print 9\n",
    "\n",
    "# Checking the get_position methon\n",
    "print(l1.get_position(9).value) # It should print 9\n"
   ]
  },
  {
   "cell_type": "code",
   "execution_count": 8,
   "metadata": {},
   "outputs": [
    {
     "ename": "TypeError",
     "evalue": "unorderable types: Element() > int()",
     "output_type": "error",
     "traceback": [
      "\u001b[0;31m---------------------------------------------------------------------------\u001b[0m",
      "\u001b[0;31mTypeError\u001b[0m                                 Traceback (most recent call last)",
      "\u001b[0;32m<ipython-input-8-cde50f42a7b5>\u001b[0m in \u001b[0;36m<module>\u001b[0;34m()\u001b[0m\n\u001b[1;32m      1\u001b[0m \u001b[0;31m# Testing insert method\u001b[0m\u001b[0;34m\u001b[0m\u001b[0;34m\u001b[0m\u001b[0m\n\u001b[0;32m----> 2\u001b[0;31m \u001b[0ml1\u001b[0m\u001b[0;34m.\u001b[0m\u001b[0minsert\u001b[0m\u001b[0;34m(\u001b[0m\u001b[0me9\u001b[0m\u001b[0;34m,\u001b[0m\u001b[0;36m99\u001b[0m\u001b[0;34m)\u001b[0m\u001b[0;34m\u001b[0m\u001b[0m\n\u001b[0m\u001b[1;32m      3\u001b[0m \u001b[0;34m\u001b[0m\u001b[0m\n\u001b[1;32m      4\u001b[0m \u001b[0mprint\u001b[0m\u001b[0;34m(\u001b[0m\u001b[0ml1\u001b[0m\u001b[0;34m.\u001b[0m\u001b[0mget_position\u001b[0m\u001b[0;34m(\u001b[0m\u001b[0;36m9\u001b[0m\u001b[0;34m)\u001b[0m\u001b[0;34m.\u001b[0m\u001b[0mvalue\u001b[0m\u001b[0;34m)\u001b[0m\u001b[0;34m\u001b[0m\u001b[0m\n",
      "\u001b[0;32m<ipython-input-1-39fae8c6b6e6>\u001b[0m in \u001b[0;36minsert\u001b[0;34m(self, position, new_element)\u001b[0m\n\u001b[1;32m     41\u001b[0m         \u001b[0mcurrent\u001b[0m \u001b[0;34m=\u001b[0m \u001b[0mself\u001b[0m\u001b[0;34m.\u001b[0m\u001b[0mhead\u001b[0m\u001b[0;34m\u001b[0m\u001b[0m\n\u001b[1;32m     42\u001b[0m         \u001b[0mpos_now\u001b[0m \u001b[0;34m=\u001b[0m \u001b[0;36m1\u001b[0m\u001b[0;34m\u001b[0m\u001b[0m\n\u001b[0;32m---> 43\u001b[0;31m         \u001b[0;32mif\u001b[0m \u001b[0mposition\u001b[0m\u001b[0;34m>\u001b[0m\u001b[0;36m1\u001b[0m\u001b[0;34m:\u001b[0m\u001b[0;34m\u001b[0m\u001b[0m\n\u001b[0m\u001b[1;32m     44\u001b[0m             \u001b[0;32mwhile\u001b[0m \u001b[0mcurrent\u001b[0m \u001b[0;32mand\u001b[0m \u001b[0mpos_now\u001b[0m\u001b[0;34m<\u001b[0m\u001b[0mposition\u001b[0m\u001b[0;34m:\u001b[0m\u001b[0;34m\u001b[0m\u001b[0m\n\u001b[1;32m     45\u001b[0m                 \u001b[0;32mif\u001b[0m \u001b[0mpos_now\u001b[0m\u001b[0;34m==\u001b[0m\u001b[0mposition\u001b[0m\u001b[0;34m-\u001b[0m\u001b[0;36m1\u001b[0m\u001b[0;34m:\u001b[0m\u001b[0;34m\u001b[0m\u001b[0m\n",
      "\u001b[0;31mTypeError\u001b[0m: unorderable types: Element() > int()"
     ]
    }
   ],
   "source": [
    "# Testing insert method\n",
    "l1.insert(e9,99)\n",
    "\n",
    "print(l1.get_position(9).value)"
   ]
  }
 ],
 "metadata": {
  "kernelspec": {
   "display_name": "Python [conda env:numpy-course]",
   "language": "python",
   "name": "conda-env-numpy-course-py"
  },
  "language_info": {
   "codemirror_mode": {
    "name": "ipython",
    "version": 3
   },
   "file_extension": ".py",
   "mimetype": "text/x-python",
   "name": "python",
   "nbconvert_exporter": "python",
   "pygments_lexer": "ipython3",
   "version": "3.5.6"
  }
 },
 "nbformat": 4,
 "nbformat_minor": 2
}

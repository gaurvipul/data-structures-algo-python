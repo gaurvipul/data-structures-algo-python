{
 "cells": [
  {
   "cell_type": "markdown",
   "metadata": {},
   "source": [
    "# Lesson 1: Iterations : Binary Gap\n",
    "https://codility.com/media/train/Iterations.pdf\n",
    "\n",
    "A binary gap within a positive integer N is any maximal sequence of consecutive zeros that is surrounded by ones at both ends in the binary representation of N.\n",
    "\n",
    "For example, number 9 has binary representation 1001 and contains a binary gap of length 2. The number 529 has binary representation 1000010001 and contains two binary gaps: one of length 4 and one of length 3. The number 20 has binary representation 10100 and contains one binary gap of length 1. The number 15 has binary representation 1111 and has no binary gaps. The number 32 has binary representation 100000 and has no binary gaps.\n",
    "\n",
    "Write a function:\n",
    "\n",
    "def solution(N)\n",
    "\n",
    "that, given a positive integer N, returns the length of its longest binary gap. The function should return 0 if N doesn't contain a binary gap.\n",
    "\n",
    "For example, given N = 1041 the function should return 5, because N has binary representation 10000010001 and so its longest binary gap is of length 5. Given N = 32 the function should return 0, because N has binary representation '100000' and thus no binary gaps.\n",
    "\n",
    "Write an efficient algorithm for the following assumptions:\n",
    "\n",
    "N is an integer within the range [1..2,147,483,647]."
   ]
  },
  {
   "cell_type": "code",
   "execution_count": 4,
   "metadata": {},
   "outputs": [
    {
     "name": "stdout",
     "output_type": "stream",
     "text": [
      "format(N,'b') >>>> 10000010001\n",
      "format(N, 'b').strip('0') >>>>  10000010001\n",
      "format(N, 'b').strip('0').split('1') >>>>  ['', '00000', '000', '']\n"
     ]
    },
    {
     "data": {
      "text/plain": [
       "5"
      ]
     },
     "execution_count": 4,
     "metadata": {},
     "output_type": "execute_result"
    }
   ],
   "source": [
    "# 100% but performance not assessed\n",
    "\n",
    "def solution(N):\n",
    "    print(\"format(N,'b') >>>>\", format(N,'b')) # convert number to binary\n",
    "    print(\"format(N, 'b').strip('0') >>>> \",format(N, 'b').strip('0')) # strip trailing zeros as they are inconsequential to the problem\n",
    "    print(\"format(N, 'b').strip('0').split('1') >>>> \",format(N, 'b').strip('0').split('1'),end=\"\\n\") # Split from 1 into strings of zeros\n",
    "    return len(max(format(N, 'b').strip('0').split('1')))  # return max length string\n",
    "\n",
    "solution(1041)"
   ]
  },
  {
   "cell_type": "markdown",
   "metadata": {},
   "source": [
    "# Lesson 2: Arrays\n",
    "https://codility.com/media/train/0-Arrays.pdf\n",
    "\n"
   ]
  },
  {
   "cell_type": "code",
   "execution_count": 11,
   "metadata": {},
   "outputs": [
    {
     "name": "stdout",
     "output_type": "stream",
     "text": [
      "0  >>>>>  2\n",
      "4\n",
      "1  >>>>>  2\n",
      "3\n"
     ]
    },
    {
     "data": {
      "text/plain": [
       "[5, 4, 3, 2, 1]"
      ]
     },
     "execution_count": 11,
     "metadata": {},
     "output_type": "execute_result"
    }
   ],
   "source": [
    "# Reversing an Array by iterating over the array midpoint and reversing the indexes\n",
    "def reverseArray(A):\n",
    "    for index in range(len(A)//2):\n",
    "        print(index,' >>>>> ',len(A)//2)\n",
    "        k=len(A)-index-1\n",
    "        print(k)\n",
    "        A[index], A[k] = A[k], A[index]\n",
    "    return A\n",
    "\n",
    "reverseArray([1,2,3,4,5])"
   ]
  },
  {
   "cell_type": "markdown",
   "metadata": {},
   "source": [
    "# Lesson 2: Arrays : Cyclic Rotation\n",
    "\n",
    "An array A consisting of N integers is given. Rotation of the array means that each element is shifted right by one index, and the last element of the array is moved to the first place. For example, the rotation of array A = [3, 8, 9, 7, 6] is [6, 3, 8, 9, 7] (elements are shifted right by one index and 6 is moved to the first place).\n",
    "\n",
    "The goal is to rotate array A K times; that is, each element of A will be shifted to the right K times.\n",
    "\n",
    "Write a function:\n",
    "\n",
    "def solution(A, K)\n",
    "\n",
    "that, given an array A consisting of N integers and an integer K, returns the array A rotated K times.\n",
    "\n",
    "For example, given\n",
    "\n",
    "    A = [3, 8, 9, 7, 6]\n",
    "    K = 3\n",
    "the function should return [9, 7, 6, 3, 8]. Three rotations were made:\n",
    "\n",
    "    [3, 8, 9, 7, 6] -> [6, 3, 8, 9, 7]\n",
    "    [6, 3, 8, 9, 7] -> [7, 6, 3, 8, 9]\n",
    "    [7, 6, 3, 8, 9] -> [9, 7, 6, 3, 8]\n",
    "For another example, given\n",
    "\n",
    "    A = [0, 0, 0]\n",
    "    K = 1\n",
    "the function should return [0, 0, 0]\n",
    "\n",
    "Given\n",
    "\n",
    "    A = [1, 2, 3, 4]\n",
    "    K = 4\n",
    "the function should return [1, 2, 3, 4]\n",
    "\n",
    "Assume that:\n",
    "\n",
    "N and K are integers within the range [0..100];\n",
    "each element of array A is an integer within the range [−1,000..1,000].\n",
    "In your solution, focus on correctness. The performance of your solution will not be the focus of the assessment."
   ]
  },
  {
   "cell_type": "code",
   "execution_count": 13,
   "metadata": {},
   "outputs": [
    {
     "name": "stdout",
     "output_type": "stream",
     "text": [
      "[1, 2, 3, 4]\n",
      "[0, 0, 0]\n",
      "[9, 7, 6, 3, 8]\n"
     ]
    }
   ],
   "source": [
    "# 100% accuracy performance not assessed\n",
    "\n",
    "def solution(A, K):\n",
    "    if len(A)==0:\n",
    "        return A\n",
    "    K = K%len(A)\n",
    "    return A[-K:]+A[:-K]\n",
    "\n",
    "print(solution([1, 2, 3, 4],4))\n",
    "print(solution([0, 0, 0],1))\n",
    "print(solution([3, 8, 9, 7, 6],3))"
   ]
  },
  {
   "cell_type": "markdown",
   "metadata": {},
   "source": [
    "# Lesson 2: Arrays : OddOccurrencesInArray\n",
    "A non-empty array A consisting of N integers is given. The array contains an odd number of elements, and each element of the array can be paired with another element that has the same value, except for one element that is left unpaired.\n",
    "\n",
    "For example, in array A such that:\n",
    "\n",
    "  A[0] = 9  A[1] = 3  A[2] = 9\n",
    "  A[3] = 3  A[4] = 9  A[5] = 7\n",
    "  A[6] = 9\n",
    "the elements at indexes 0 and 2 have value 9,\n",
    "the elements at indexes 1 and 3 have value 3,\n",
    "the elements at indexes 4 and 6 have value 9,\n",
    "the element at index 5 has value 7 and is unpaired.\n",
    "Write a function:\n",
    "\n",
    "def solution(A)\n",
    "\n",
    "that, given an array A consisting of N integers fulfilling the above conditions, returns the value of the unpaired element.\n",
    "\n",
    "For example, given array A such that:\n",
    "\n",
    "  A[0] = 9  A[1] = 3  A[2] = 9\n",
    "  A[3] = 3  A[4] = 9  A[5] = 7\n",
    "  A[6] = 9\n",
    "the function should return 7, as explained in the example above.\n",
    "\n",
    "Write an efficient algorithm for the following assumptions:\n",
    "\n",
    "N is an odd integer within the range [1..1,000,000];\n",
    "each element of array A is an integer within the range [1..1,000,000,000];\n",
    "all but one of the values in A occur an even number of times."
   ]
  },
  {
   "cell_type": "code",
   "execution_count": 61,
   "metadata": {},
   "outputs": [
    {
     "data": {
      "text/plain": [
       "7"
      ]
     },
     "execution_count": 61,
     "metadata": {},
     "output_type": "execute_result"
    }
   ],
   "source": [
    "# 66% - 80% in correctness and 50% in performance\n",
    "\n",
    "from collections import Counter,OrderedDict\n",
    "\n",
    "#class OrderedCounter(Counter, OrderedDict):\n",
    "#    pass\n",
    "\n",
    "def solution(A):\n",
    "    cnt=Counter(A)\n",
    "    \n",
    "    cnt2=dict((v,k) for k,v in cnt.items())\n",
    "    od=OrderedDict(sorted(cnt2.items()))\n",
    "    \n",
    "    #for k, v in od.items(): print (k, v)\n",
    "    \n",
    "    #print(od[1])\n",
    "\n",
    "    return od[1]\n",
    "\n",
    "solution([9,3,9,3,9,7,9,90,90,90,90,90,90])"
   ]
  },
  {
   "cell_type": "code",
   "execution_count": 62,
   "metadata": {},
   "outputs": [
    {
     "data": {
      "text/plain": [
       "7"
      ]
     },
     "execution_count": 62,
     "metadata": {},
     "output_type": "execute_result"
    }
   ],
   "source": [
    "# 100%\n",
    "\n",
    "# Using XOR, XOR of each number with itself will result in zero\n",
    "# anything which is unmatched will be returned\n",
    "\n",
    "def solution(A):\n",
    "    result = 0\n",
    "    for number in A:\n",
    "        result ^= number \n",
    "    return result\n",
    "\n",
    "solution([9,3,9,3,9,7,9,90,90,90,90,90,90])"
   ]
  },
  {
   "cell_type": "markdown",
   "metadata": {},
   "source": [
    "# Lesson 3: Time Complexity : FrogJmp\n",
    "https://codility.com/media/train/1-TimeComplexity.pdf\n",
    "\n",
    "A small frog wants to get to the other side of the road. The frog is currently located at position X and wants to get to a position greater than or equal to Y. The small frog always jumps a fixed distance, D.\n",
    "\n",
    "Count the minimal number of jumps that the small frog must perform to reach its target.\n",
    "\n",
    "Write a function:\n",
    "\n",
    "def solution(X, Y, D)\n",
    "\n",
    "that, given three integers X, Y and D, returns the minimal number of jumps from position X to a position equal to or greater than Y.\n",
    "\n",
    "For example, given:\n",
    "\n",
    "  - X = 10\n",
    "  - Y = 85\n",
    "  - D = 30\n",
    "the function should return 3, because the frog will be positioned as follows:\n",
    "\n",
    "after the first jump, at position 10 + 30 = 40\n",
    "after the second jump, at position 10 + 30 + 30 = 70\n",
    "after the third jump, at position 10 + 30 + 30 + 30 = 100\n",
    "Write an efficient algorithm for the following assumptions:\n",
    "\n",
    "X, Y and D are integers within the range [1..1,000,000,000];\n",
    "X ≤ Y."
   ]
  },
  {
   "cell_type": "code",
   "execution_count": 68,
   "metadata": {},
   "outputs": [
    {
     "data": {
      "text/plain": [
       "3"
      ]
     },
     "execution_count": 68,
     "metadata": {},
     "output_type": "execute_result"
    }
   ],
   "source": [
    "def solution(X,Y,D):\n",
    "    distance=Y-X\n",
    "    if (distance%D==0):\n",
    "        return distance//D\n",
    "    else:\n",
    "        return distance//D + 1\n",
    "\n",
    "solution(10,85,30)"
   ]
  },
  {
   "cell_type": "markdown",
   "metadata": {},
   "source": [
    "# Lesson 3: Time Complexity: PermMissingElem\n",
    "\n",
    "https://www.youtube.com/watch?v=Dq0jQX3YNKg&t=336s\n",
    "\n",
    "An array A consisting of N different integers is given. The array contains integers in the range [1..(N + 1)], which means that exactly one element is missing.\n",
    "\n",
    "Your goal is to find that missing element.\n",
    "\n",
    "Write a function:\n",
    "\n",
    "def solution(A)\n",
    "\n",
    "that, given an array A, returns the value of the missing element.\n",
    "\n",
    "For example, given array A such that:\n",
    "\n",
    "  A[0] = 2\n",
    "  A[1] = 3\n",
    "  A[2] = 1\n",
    "  A[3] = 5\n",
    "the function should return 4, as it is the missing element.\n",
    "\n",
    "Write an efficient algorithm for the following assumptions:\n",
    "\n",
    "N is an integer within the range [0..100,000];\n",
    "the elements of A are all distinct;\n",
    "each element of array A is an integer within the range [1..(N + 1)].\n"
   ]
  },
  {
   "cell_type": "code",
   "execution_count": 7,
   "metadata": {},
   "outputs": [
    {
     "data": {
      "text/plain": [
       "4"
      ]
     },
     "execution_count": 7,
     "metadata": {},
     "output_type": "execute_result"
    }
   ],
   "source": [
    "# 100%\n",
    "\n",
    "# Again using XOR to find missing elements\n",
    "\n",
    "# Same problem can be solved by Addition subtraction but it would create overflow for larger \n",
    "# arrays and larger numbers\n",
    "\n",
    "# XOR is a bitwise operator, very fast and also doesn't create overflow like addition and subtraction\n",
    "\n",
    "def solution(A):\n",
    "    xor_sum=0\n",
    "    for i in range(0,len(A)):\n",
    "        xor_sum=xor_sum^A[i]^(i+1)\n",
    "    return xor_sum^(len(A)+1)\n",
    "\n",
    "solution([2,3,1,5])\n",
    "\n",
    "#print('Iteration >> ', i, ' xor_sum >>>> ', xor_sum, end=' \\n\\n')\n",
    "#print('xor_sum^A[i] >>>> ', xor_sum^A[i], end=' \\n\\n')\n",
    "#print('xor_sum^A[i]^(i+1) >>> ', xor_sum^A[i]^(i+1), end=' \\n\\n')"
   ]
  },
  {
   "cell_type": "markdown",
   "metadata": {},
   "source": [
    "# Lesson 3: Time Complexity: TapeEquilibrium\n",
    "\n",
    "A non-empty array A consisting of N integers is given. Array A represents numbers on a tape.\n",
    "\n",
    "Any integer P, such that 0 < P < N, splits this tape into two non-empty parts: A[0], A[1], ..., A[P − 1] and A[P], A[P + 1], ..., A[N − 1].\n",
    "\n",
    "The difference between the two parts is the value of: |(A[0] + A[1] + ... + A[P − 1]) − (A[P] + A[P + 1] + ... + A[N − 1])|\n",
    "\n",
    "In other words, it is the absolute difference between the sum of the first part and the sum of the second part.\n",
    "\n",
    "For example, consider array A such that:\n",
    "\n",
    "  A[0] = 3\n",
    "  A[1] = 1\n",
    "  A[2] = 2\n",
    "  A[3] = 4\n",
    "  A[4] = 3\n",
    "We can split this tape in four places:\n",
    "\n",
    "P = 1, difference = |3 − 10| = 7 \n",
    "P = 2, difference = |4 − 9| = 5 \n",
    "P = 3, difference = |6 − 7| = 1 \n",
    "P = 4, difference = |10 − 3| = 7 \n",
    "Write a function:\n",
    "\n",
    "def solution(A)\n",
    "\n",
    "that, given a non-empty array A of N integers, returns the minimal difference that can be achieved.\n",
    "\n",
    "For example, given:\n",
    "\n",
    "  A[0] = 3\n",
    "  A[1] = 1\n",
    "  A[2] = 2\n",
    "  A[3] = 4\n",
    "  A[4] = 3\n",
    "the function should return 1, as explained above.\n",
    "\n",
    "Write an efficient algorithm for the following assumptions:\n",
    "\n",
    "N is an integer within the range [2..100,000];\n",
    "each element of array A is an integer within the range [−1,000..1,000]."
   ]
  },
  {
   "cell_type": "code",
   "execution_count": 36,
   "metadata": {},
   "outputs": [
    {
     "data": {
      "text/plain": [
       "1"
      ]
     },
     "execution_count": 36,
     "metadata": {},
     "output_type": "execute_result"
    }
   ],
   "source": [
    "# This solution did not score 100% \n",
    "\n",
    "# Mistake\n",
    "# 1. Creating additional space complexity with diff_arr where we require only 2 placeholders \n",
    "#    for head sum and tail sum\n",
    "\n",
    "# 2. Besides performance, It also failed in Correctness because it was unable to handle negative numbers\n",
    "#    For example, for the input [-1000, 1000] the solution returned a wrong answer (got 0 expected 2000).\n",
    "\n",
    "def solution(A):\n",
    "    diff_arr=[0]*len(A)\n",
    "    for i in range(1,len(A)+1):\n",
    "        diff_arr[i-1]=abs(sum(A[:i])-sum(A[i:]))\n",
    "    return min(diff_arr)\n",
    "\n",
    "solution([3,1,2,4,3])\n",
    "\n",
    "#print(diff_arr) \n",
    "#print('For i = ', i)\n",
    "#print(A[:i])\n",
    "#print('sum(A[:i]) >>>>> ',sum(A[:i]))\n",
    "#print(A[i:])\n",
    "#print('sum(A[i:]) >>> ',sum(A[i:]))\n",
    "#print('Difference in absolute sums >>>> ', abs(sum(A[:i])-sum(A[i:])),end= \" \\n____________________________ \\n\")\n",
    "#print(min(diff_arr))"
   ]
  },
  {
   "cell_type": "code",
   "execution_count": 37,
   "metadata": {},
   "outputs": [
    {
     "data": {
      "text/plain": [
       "1"
      ]
     },
     "execution_count": 37,
     "metadata": {},
     "output_type": "execute_result"
    }
   ],
   "source": [
    "# 100% solution \n",
    "def solution(A):\n",
    "    head=A[0]\n",
    "    tail=sum(A[1:])\n",
    "    min_diff=abs(head-tail)\n",
    "    for i in range(1,len(A)-1):\n",
    "        head+=A[i]\n",
    "        tail-=A[i]\n",
    "        if abs(head-tail)<min_diff:\n",
    "            min_diff=abs(head-tail)\n",
    "    return min_diff\n",
    "\n",
    "solution([3,1,2,4,3])"
   ]
  },
  {
   "cell_type": "markdown",
   "metadata": {},
   "source": [
    "# Lesson 4: Counting Elements: PermCheck\n",
    "https://codility.com/media/train/2-CountingElements.pdf\n",
    "_____________________________________________________________________________________________________\n",
    "\n",
    "Representing an array by means of Counters\n",
    "\n",
    "    from collections import Counter\n",
    "    A=[1,1,2,2,2,2,3,3,3,4,4,4,4,4,5,5,5,5,5,5]\n",
    "    cnt=Counter(A)\n",
    "    print(Counter) # Counter({1:2,2:3,3:4,4:5,5:6})\n",
    "    \n",
    "_____________________________________________________________________________________________________\n",
    "\n",
    "## PermCheck\n",
    "A non-empty array A consisting of N integers is given.\n",
    "\n",
    "A permutation is a sequence containing each element from 1 to N once, and only once.\n",
    "\n",
    "For example, array A such that:\n",
    "\n",
    "    A[0] = 4\n",
    "    A[1] = 1\n",
    "    A[2] = 3\n",
    "    A[3] = 2\n",
    "is a permutation, but array A such that:\n",
    "\n",
    "    A[0] = 4\n",
    "    A[1] = 1\n",
    "    A[2] = 3\n",
    "is not a permutation, because value 2 is missing.\n",
    "\n",
    "The goal is to check whether array A is a permutation.\n",
    "\n",
    "Write a function:\n",
    "\n",
    "def solution(A)\n",
    "\n",
    "that, given an array A, returns 1 if array A is a permutation and 0 if it is not.\n",
    "\n",
    "For example, given array A such that:\n",
    "\n",
    "    A[0] = 4\n",
    "    A[1] = 1\n",
    "    A[2] = 3\n",
    "    A[3] = 2\n",
    "the function should return 1.\n",
    "\n",
    "Given array A such that:\n",
    "\n",
    "    A[0] = 4\n",
    "    A[1] = 1\n",
    "    A[2] = 3\n",
    "the function should return 0.\n",
    "\n",
    "Write an efficient algorithm for the following assumptions:\n",
    "\n",
    "N is an integer within the range [1..100,000];\n",
    "each element of array A is an integer within the range [1..1,000,000,000]."
   ]
  },
  {
   "cell_type": "code",
   "execution_count": 75,
   "metadata": {},
   "outputs": [
    {
     "name": "stdout",
     "output_type": "stream",
     "text": [
      "1\n",
      "1\n",
      "0\n",
      "0\n"
     ]
    }
   ],
   "source": [
    "# 100% using XOR\n",
    "\n",
    "def solution(A):\n",
    "    A.sort()\n",
    "    #j=min(A)\n",
    "    xor_sum=0\n",
    "\n",
    "    #print(min(A))\n",
    "    for i in range(len(A)):\n",
    "        #print('i >>>> ',i,' j >>>> ',j, ' A[i] >>>> ', A[i],' j^A[i] >>>> ',j^A[i])\n",
    "        xor_sum=xor_sum^(i+1)^A[i]\n",
    "        #j+=1\n",
    "        if xor_sum!=0:\n",
    "            return 0\n",
    "    return 1\n",
    "\n",
    "print(solution([1]))\n",
    "print(solution([1,2,3,4,5]))\n",
    "print(solution([1,4,5,2,3,5]))\n",
    "print(solution([1,3,4]))"
   ]
  },
  {
   "cell_type": "raw",
   "metadata": {},
   "source": [
    "# 100% using counter\n",
    "\n",
    "def solution(A):\n",
    "    counter = [0]*len(A)\n",
    "    limit = len(A)\n",
    "    print('out counter >>>> ',counter)\n",
    "\n",
    "    for element in A:\n",
    "        print('Loop Start >>>> element >>>> ',element,'counter >>>> ',counter)\n",
    "        \n",
    "        if not 1 <= element <= limit:\n",
    "            print ('TRUE --> not 1 <= element <= ',limit)\n",
    "            return 0\n",
    "        else:\n",
    "            if counter[element-1] != 0:\n",
    "                print('Inside counter[element-1] >>>> ',counter[element-1])\n",
    "                return 0\n",
    "            else:\n",
    "                print('Setting counter[',element-1,'] = 1')\n",
    "                counter[element-1] = 1\n",
    "        print('Loop End >>>> element >>>> ',element,'counter >>>> ',counter, end='\\n_________________________________ \\n')\n",
    "\n",
    "    return 1\n",
    "\n",
    "solution([1,3,2,4,5])"
   ]
  },
  {
   "cell_type": "markdown",
   "metadata": {},
   "source": [
    "# Lesson 4: Counting Elements: FrogRiverOne\n",
    "\n",
    "A small frog wants to get to the other side of a river. The frog is initially located on one bank of the river (position 0) and wants to get to the opposite bank (position X+1). Leaves fall from a tree onto the surface of the river.\n",
    "\n",
    "You are given an array A consisting of N integers representing the falling leaves. A[K] represents the position where one leaf falls at time K, measured in seconds.\n",
    "\n",
    "The goal is to find the earliest time when the frog can jump to the other side of the river. The frog can cross only when leaves appear at every position across the river from 1 to X (that is, we want to find the earliest moment when all the positions from 1 to X are covered by leaves). You may assume that the speed of the current in the river is negligibly small, i.e. the leaves do not change their positions once they fall in the river.\n",
    "\n",
    "For example, you are given integer X = 5 and array A such that:\n",
    "\n",
    "  A[0] = 1\n",
    "  A[1] = 3\n",
    "  A[2] = 1\n",
    "  A[3] = 4\n",
    "  A[4] = 2\n",
    "  A[5] = 3\n",
    "  A[6] = 5\n",
    "  A[7] = 4\n",
    "In second 6, a leaf falls into position 5. This is the earliest time when leaves appear in every position across the river.\n",
    "\n",
    "Write a function:\n",
    "\n",
    "def solution(X, A)\n",
    "\n",
    "that, given a non-empty array A consisting of N integers and integer X, returns the earliest time when the frog can jump to the other side of the river.\n",
    "\n",
    "If the frog is never able to jump to the other side of the river, the function should return −1.\n",
    "\n",
    "For example, given X = 5 and array A such that:\n",
    "\n",
    "  A[0] = 1\n",
    "  A[1] = 3\n",
    "  A[2] = 1\n",
    "  A[3] = 4\n",
    "  A[4] = 2\n",
    "  A[5] = 3\n",
    "  A[6] = 5\n",
    "  A[7] = 4\n",
    "the function should return 6, as explained above.\n",
    "\n",
    "Write an efficient algorithm for the following assumptions:\n",
    "\n",
    "N and X are integers within the range [1..100,000];\n",
    "each element of array A is an integer within the range [1..X].\n"
   ]
  },
  {
   "cell_type": "code",
   "execution_count": 96,
   "metadata": {},
   "outputs": [
    {
     "data": {
      "text/plain": [
       "6"
      ]
     },
     "execution_count": 96,
     "metadata": {},
     "output_type": "execute_result"
    }
   ],
   "source": [
    "def solution(X, A):\n",
    "    covered_time = [-1]*X  # Record the time, each position is covered\n",
    "    #print(\"covered time >>>\", covered_time)\n",
    "    uncovered = X          # Record the number of uncovered position\n",
    "    #print(\"uncovered >>>>>>>>> \", uncovered)\n",
    "    for index in range(0,len(A)):\n",
    "        #print(\"_____________________________________________________\")\n",
    "        #print(\"index\", index,end=\" >>>>>>>>>> \\n\")\n",
    "        if covered_time[A[index]-1] != -1:\n",
    "            # This position is already covered\n",
    "            #print(\"IF ::: A[index]-1 >>>>>> \",A[index]-1)\n",
    "            #print(\"IF :::: covered_time[A[index]-1] >>>>>> \",covered_time[A[index]-1])\n",
    "            continue\n",
    "        else:\n",
    "            # This position is to be covered\n",
    "            covered_time[A[index]-1] = index\n",
    "            uncovered -= 1\n",
    "            #print(\"ELSE ::: A[index]-1 >>>>>> \",A[index]-1)\n",
    "            #print(\"ELSE ::: covered_time[A[index]-1] >>>>>>>>>>> \",covered_time[A[index]-1])\n",
    "            #print(\"ELSE :::: covered_time\", covered_time)\n",
    "            if uncovered == 0:\n",
    "                # All positions are covered\n",
    "                return index\n",
    "    # Finally, some positions are not covered\n",
    "    return -1\n",
    "\n",
    "solution(5,[1,3,1,4,2,3,5,4])"
   ]
  },
  {
   "cell_type": "code",
   "execution_count": null,
   "metadata": {},
   "outputs": [],
   "source": []
  }
 ],
 "metadata": {
  "kernelspec": {
   "display_name": "Python 3",
   "language": "python",
   "name": "python3"
  },
  "language_info": {
   "codemirror_mode": {
    "name": "ipython",
    "version": 3
   },
   "file_extension": ".py",
   "mimetype": "text/x-python",
   "name": "python",
   "nbconvert_exporter": "python",
   "pygments_lexer": "ipython3",
   "version": "3.6.0"
  }
 },
 "nbformat": 4,
 "nbformat_minor": 2
}
